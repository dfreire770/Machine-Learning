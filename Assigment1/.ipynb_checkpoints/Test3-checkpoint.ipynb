{
 "cells": [
  {
   "cell_type": "code",
   "execution_count": 21,
   "id": "1cb20251",
   "metadata": {},
   "outputs": [],
   "source": [
    "import numpy as np \n",
    "import pandas as pd\n",
    "from collections import Counter\n",
    "\n",
    "def minkowskiDistance(A, B, p=2):\n",
    "    # This function will calculate the Minkowski distance\n",
    "    # The default value for p is 2\n",
    "    \n",
    "    return pow(pow(abs(B - A),p).sum(axis=1),1/p)\n",
    "\n",
    "def partition( feature_matrix, target_vector, t, shuffle = True):\n",
    "   \n",
    "    if shuffle:\n",
    "        shuffler = np.random.permutation(len(feature_matrix))\n",
    "        feature_matrix = feature_matrix[shuffler]\n",
    "        target_vector = target_vector[shuffler]\n",
    "\n",
    "    train_split_limit = int(1-t * len(feature_matrix))\n",
    "    test_split_limit = int(1-t * len(feature_matrix))\n",
    "\n",
    "    x_train = feature_matrix[:train_split_limit]\n",
    "    x_test = feature_matrix[test_split_limit:]\n",
    "       \n",
    "    y_train = target_vector[:train_split_limit]\n",
    "    y_test = target_vector[test_split_limit:]\n",
    "\n",
    "    return x_train, x_test, y_train, y_test\n",
    "\n",
    "df = pd.read_csv('winequality-white.csv',sep=';')\n",
    "\n",
    "X = df[['alcohol','density']]\n",
    "\n",
    "#X = df.drop(columns=['quality'])\n",
    "#X = np.array(df.drop(columns=['quality']))\n",
    "\n",
    "Y = df['quality']\n",
    "\n",
    "Y = np.asarray([0 if val <= 5 else 1 for val in Y])\n",
    "\n",
    "X = np.array(X)\n",
    "Y = np.array(Y)\n",
    "\n",
    "x_train, x_test, y_train, y_test = partition(X,Y,0.2,shuffle=True)"
   ]
  },
  {
   "cell_type": "code",
   "execution_count": 208,
   "id": "8db63554",
   "metadata": {},
   "outputs": [
    {
     "data": {
      "text/plain": [
       "array([[ 9.2    ,  1.0012 ],\n",
       "       [ 9.1    ,  1.00014],\n",
       "       [11.7    ,  0.99038],\n",
       "       ...,\n",
       "       [ 9.     ,  0.99773],\n",
       "       [10.     ,  0.997  ],\n",
       "       [11.8    ,  0.9905 ]])"
      ]
     },
     "execution_count": 208,
     "metadata": {},
     "output_type": "execute_result"
    }
   ],
   "source": [
    "x_test"
   ]
  },
  {
   "cell_type": "code",
   "execution_count": 313,
   "id": "c451afda",
   "metadata": {
    "scrolled": false
   },
   "outputs": [],
   "source": [
    "\n",
    "n_neighbors = 5\n",
    "\n",
    "#points_labels=[]\n",
    "\n",
    "labels = []\n",
    "\n",
    "pred = []\n",
    "\n",
    "for x in x_test:\n",
    "    #euc_dist = minkowskiDistance(x,x_test)\n",
    "    euc_dist = np.sqrt(np.sum((x_train-x)**2, axis =1))\n",
    "    sorted_distances = euc_dist.argsort()[:n_neighbors]\n",
    "    \n",
    "    nearest =[]\n",
    "    for index in sorted_distances:\n",
    "        nearest.append(y_train[index])\n",
    "        \n",
    "    labels.append(Counter(nearest).most_common(1)[0][0])\n",
    "    \n",
    "\n",
    "pred = np.array(labels)"
   ]
  },
  {
   "cell_type": "code",
   "execution_count": 320,
   "id": "b197aba3",
   "metadata": {},
   "outputs": [],
   "source": [
    "n_neighbors = 5\n",
    "\n",
    "labels=[]\n",
    "\n",
    "nearest_neighbors = []\n",
    "\n",
    "#inv_distances = []\n",
    "\n",
    "w = []\n",
    "\n",
    "pred1 = []\n",
    "\n",
    "\n",
    "for x in x_test:\n",
    "    #euc_dist = minkowskiDistance(x,x_train) #this must be euclidian distance\n",
    "    \n",
    "    euc_dist = minkowskiDistance(x_train,x)\n",
    "    \n",
    "    short_distances = euc_dist.argsort()[:n_neighbors]\n",
    "\n",
    "    inv_dist = 1/(short_distances+0.00001)\n",
    "\n",
    "    w1= inv_dist/(inv_dist.sum())\n",
    "    \n",
    "    nearest =[]\n",
    "    for index in short_distances:\n",
    "        nearest.append(y_train[index])\n",
    "    \n",
    "    label = np.matmul(w1, nearest) / np.sum(w1) \n",
    "    \n",
    "    #labels.append(label)\n",
    "    \n",
    "    labels.append(0 if label < 0.5 else 1)\n",
    "    \n",
    "pred1 = np.asarray(labels)\n",
    "\n",
    "    \n",
    "    \n",
    "\n"
   ]
  },
  {
   "cell_type": "code",
   "execution_count": 321,
   "id": "389a0c12",
   "metadata": {},
   "outputs": [
    {
     "data": {
      "text/plain": [
       "array([0, 1, 1, 1, 1, 1, 1, 1, 1, 1, 1, 0, 0, 1, 0, 1, 1, 1, 0, 0, 1, 1,\n",
       "       1, 0, 1, 1, 0, 1, 0, 1, 1, 0, 1, 1, 1, 1, 0, 0, 0, 0, 1, 1, 1, 1,\n",
       "       1, 1, 1, 0, 1, 1, 1, 1, 1, 1, 0, 1, 0, 0, 0, 0, 0, 0, 0, 0, 1, 0,\n",
       "       1, 1, 1, 0, 1, 1, 0, 0, 1, 1, 1, 1, 0, 0, 0, 1, 1, 0, 1, 1, 1, 1,\n",
       "       0, 1, 1, 1, 0, 0, 0, 1, 0, 0, 1, 1, 0, 0, 1, 1, 0, 1, 1, 0, 1, 1,\n",
       "       1, 0, 0, 1, 1, 1, 1, 1, 0, 1, 1, 1, 1, 0, 1, 0, 0, 1, 1, 0, 1, 1,\n",
       "       1, 1, 0, 1, 1, 1, 1, 1, 1, 1, 1, 1, 1, 1, 1, 1, 0, 1, 1, 0, 1, 0,\n",
       "       0, 1, 1, 1, 1, 1, 1, 0, 1, 0, 0, 1, 0, 1, 1, 1, 1, 1, 0, 1, 1, 1,\n",
       "       1, 1, 1, 1, 0, 0, 0, 1, 1, 1, 0, 1, 1, 1, 0, 1, 1, 1, 1, 1, 1, 1,\n",
       "       0, 1, 0, 1, 0, 1, 1, 1, 1, 1, 0, 1, 1, 1, 1, 1, 0, 1, 0, 1, 0, 1,\n",
       "       1, 0, 1, 1, 1, 1, 1, 1, 1, 0, 1, 1, 0, 1, 0, 1, 0, 0, 1, 1, 1, 0,\n",
       "       0, 0, 1, 1, 0, 0, 1, 0, 1, 1, 1, 0, 0, 1, 0, 1, 1, 0, 1, 0, 1, 1,\n",
       "       1, 1, 1, 1, 1, 1, 1, 1, 1, 1, 1, 0, 1, 1, 1, 1, 1, 1, 1, 0, 1, 1,\n",
       "       1, 1, 1, 1, 1, 1, 0, 1, 0, 1, 1, 0, 1, 1, 1, 1, 1, 1, 1, 1, 1, 1,\n",
       "       0, 1, 0, 1, 1, 0, 1, 0, 1, 1, 1, 1, 1, 1, 1, 1, 1, 1, 1, 1, 1, 1,\n",
       "       1, 1, 1, 0, 1, 1, 0, 1, 0, 1, 1, 1, 1, 1, 1, 0, 1, 1, 0, 0, 1, 1,\n",
       "       1, 0, 0, 1, 1, 0, 1, 0, 1, 0, 0, 1, 0, 1, 0, 0, 1, 1, 1, 1, 1, 1,\n",
       "       1, 1, 1, 1, 0, 1, 0, 1, 1, 0, 1, 1, 1, 0, 1, 0, 0, 0, 1, 1, 1, 1,\n",
       "       1, 1, 1, 0, 1, 1, 1, 1, 1, 1, 1, 1, 0, 1, 1, 0, 0, 1, 0, 1, 1, 1,\n",
       "       0, 0, 1, 1, 0, 1, 1, 0, 1, 1, 1, 0, 0, 1, 1, 0, 1, 0, 0, 1, 1, 1,\n",
       "       1, 1, 0, 1, 1, 1, 1, 1, 1, 0, 1, 1, 1, 0, 1, 0, 1, 0, 1, 1, 0, 0,\n",
       "       1, 1, 1, 1, 0, 0, 1, 1, 1, 1, 1, 1, 0, 1, 1, 0, 1, 1, 0, 1, 1, 0,\n",
       "       1, 1, 1, 0, 1, 1, 1, 1, 1, 1, 1, 1, 0, 1, 1, 0, 0, 1, 0, 1, 1, 0,\n",
       "       0, 1, 1, 1, 0, 1, 0, 0, 0, 0, 1, 1, 1, 1, 0, 1, 0, 1, 1, 1, 1, 0,\n",
       "       1, 0, 1, 1, 1, 1, 0, 1, 0, 1, 0, 0, 0, 0, 1, 1, 1, 1, 1, 1, 1, 1,\n",
       "       0, 0, 1, 1, 1, 1, 1, 0, 1, 1, 1, 1, 1, 1, 0, 0, 1, 1, 0, 1, 0, 1,\n",
       "       1, 1, 0, 0, 1, 1, 1, 0, 1, 1, 1, 0, 0, 1, 0, 0, 0, 1, 1, 0, 1, 1,\n",
       "       1, 0, 0, 1, 0, 1, 1, 1, 1, 1, 0, 1, 1, 1, 1, 1, 1, 1, 1, 1, 0, 0,\n",
       "       1, 1, 1, 1, 1, 1, 1, 1, 1, 1, 1, 1, 1, 0, 0, 0, 0, 1, 0, 1, 0, 1,\n",
       "       0, 1, 0, 1, 0, 1, 1, 0, 1, 1, 1, 1, 0, 0, 1, 0, 1, 0, 0, 0, 0, 1,\n",
       "       1, 1, 1, 0, 0, 1, 1, 0, 1, 0, 1, 0, 0, 0, 1, 1, 1, 0, 0, 1, 0, 1,\n",
       "       1, 1, 0, 1, 1, 1, 1, 1, 1, 0, 1, 1, 0, 0, 1, 1, 1, 1, 1, 1, 0, 1,\n",
       "       0, 1, 1, 1, 1, 1, 1, 1, 1, 1, 1, 1, 1, 1, 1, 1, 0, 1, 1, 0, 1, 1,\n",
       "       1, 0, 0, 1, 0, 1, 1, 1, 0, 0, 0, 1, 1, 1, 0, 0, 1, 0, 1, 1, 0, 1,\n",
       "       1, 1, 0, 1, 1, 0, 1, 1, 0, 1, 1, 1, 1, 1, 1, 1, 0, 1, 0, 0, 0, 0,\n",
       "       0, 1, 1, 1, 1, 1, 1, 0, 0, 1, 1, 1, 0, 1, 1, 1, 0, 0, 1, 1, 1, 0,\n",
       "       0, 1, 1, 1, 1, 1, 1, 1, 0, 1, 1, 1, 1, 1, 1, 0, 1, 1, 0, 1, 1, 1,\n",
       "       1, 0, 0, 1, 0, 1, 1, 0, 0, 1, 1, 1, 1, 1, 0, 0, 0, 0, 1, 1, 1, 0,\n",
       "       1, 1, 1, 1, 1, 1, 1, 1, 1, 0, 1, 1, 1, 0, 1, 0, 1, 0, 0, 1, 1, 0,\n",
       "       1, 1, 1, 1, 0, 0, 1, 0, 0, 1, 0, 1, 1, 1, 1, 1, 1, 1, 0, 0, 0, 1,\n",
       "       1, 1, 1, 1, 1, 1, 0, 0, 1, 1, 1, 0, 0, 0, 0, 0, 1, 1, 0, 1, 0, 1,\n",
       "       0, 1, 1, 1, 1, 0, 1, 1, 1, 0, 1, 0, 1, 1, 1, 0, 1, 1, 0, 1, 1, 0,\n",
       "       1, 1, 1, 1, 1, 1, 0, 1, 1, 0, 1, 1, 0, 1, 0, 1, 1, 0, 0, 0, 1, 0,\n",
       "       1, 0, 0, 0, 1, 1, 0, 1, 1, 1, 0, 0, 1, 1, 1, 0, 0, 1, 1, 1, 1, 1,\n",
       "       1, 1, 1, 0, 0, 1, 1, 1, 0, 1])"
      ]
     },
     "execution_count": 321,
     "metadata": {},
     "output_type": "execute_result"
    }
   ],
   "source": [
    "pred1"
   ]
  },
  {
   "cell_type": "code",
   "execution_count": 16,
   "id": "c63e3867",
   "metadata": {},
   "outputs": [],
   "source": [
    "def CalculateAccuracy(y_test,predictions):\n",
    "\n",
    "    N = y_test.shape[0]\n",
    "\n",
    "    accuracy = ( y_test == predictions).sum() / N\n",
    "    \n",
    "    return accuracy"
   ]
  },
  {
   "cell_type": "code",
   "execution_count": 311,
   "id": "69cf3336",
   "metadata": {},
   "outputs": [
    {
     "name": "stdout",
     "output_type": "stream",
     "text": [
      "0.7229038854805726\n",
      "0.7034764826175869\n"
     ]
    }
   ],
   "source": [
    "print(CalculateAccuracy(y_test,pred))\n",
    "print(CalculateAccuracy(y_test,pred1))\n"
   ]
  },
  {
   "cell_type": "code",
   "execution_count": 24,
   "id": "d57197b2",
   "metadata": {},
   "outputs": [],
   "source": [
    "from sklearn.neighbors import KNeighborsClassifier\n",
    "from sklearn.metrics import accuracy_score\n",
    "\n",
    "clf = KNeighborsClassifier(n_neighbors = 5, weights =\"distance\")\n",
    "clf.fit(x_train,y_train)\n",
    "y_pred = clf.predict(x_test)"
   ]
  },
  {
   "cell_type": "code",
   "execution_count": 296,
   "id": "fc168c3f",
   "metadata": {},
   "outputs": [
    {
     "name": "stdout",
     "output_type": "stream",
     "text": [
      "0.7034764826175869\n"
     ]
    }
   ],
   "source": [
    "#print(CalculateAccuracy(y_test,pred1))\n",
    "#print(CalculateAccuracy(y_test,pred2))\n",
    "print(CalculateAccuracy(y_test,pred1))"
   ]
  }
 ],
 "metadata": {
  "kernelspec": {
   "display_name": "Python 3 (ipykernel)",
   "language": "python",
   "name": "python3"
  },
  "language_info": {
   "codemirror_mode": {
    "name": "ipython",
    "version": 3
   },
   "file_extension": ".py",
   "mimetype": "text/x-python",
   "name": "python",
   "nbconvert_exporter": "python",
   "pygments_lexer": "ipython3",
   "version": "3.9.7"
  }
 },
 "nbformat": 4,
 "nbformat_minor": 5
}
