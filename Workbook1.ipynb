{
 "cells": [
  {
   "cell_type": "markdown",
   "metadata": {
    "id": "kRZkkQNZb_Tf"
   },
   "source": [
    "# CSc 74020 Machine Learning Week 1"
   ]
  },
  {
   "cell_type": "markdown",
   "metadata": {
    "id": "5vodY_4JcW5B"
   },
   "source": [
    "## 1. <font color='green'>Introduction</font>"
   ]
  },
  {
   "cell_type": "markdown",
   "metadata": {
    "id": "VSVITTaJcq8P"
   },
   "source": [
    "### <font color='green'>Example Types of Machine Learning</font>\n",
    "Most machine learning tasks fall into one of the following categories:\n",
    "- **Supervised learning**: a specific output is expected\n",
    "    - Regression: output is numerical\n",
    "    - Classification: output is categorical\n",
    "- **Unsupervised learning**: no specific output is expected\n",
    "    - Clustering: split data into groups by similarity\n",
    "    - Pattern mining: discover patterns in datasets\n",
    "- **Reinforcement learning**: take actions to maximize cumulative reward\n",
    "\n",
    "The techniques to solve these tasks are often closely related. Note terminology such as semi-supervised and self-supervised have became popular in recent years."
   ]
  },
  {
   "cell_type": "markdown",
   "metadata": {
    "id": "Q52z4ITvAUEd"
   },
   "source": [
    "## 2. <font color='green'> Partitioning Methods </font>"
   ]
  },
  {
   "cell_type": "markdown",
   "metadata": {
    "id": "Knvxc7GNApTa"
   },
   "source": [
    "Discussed in class"
   ]
  },
  {
   "cell_type": "markdown",
   "metadata": {
    "id": "HxZKgsUfnUa-"
   },
   "source": [
    "## 3. <font color='green'> Example Distance Measures </font>"
   ]
  },
  {
   "cell_type": "markdown",
   "metadata": {
    "id": "lF4mTWl1GawM"
   },
   "source": [
    "In your first assignment you will implement the following distances we went over in class\n",
    "- Euclidean\n",
    "- Manhattan\n",
    "- Minkowski \n",
    "\n",
    "Below are implementations of Jaccard and Cosine Distances (1-Similarity)"
   ]
  },
  {
   "cell_type": "code",
   "execution_count": 1,
   "metadata": {
    "id": "U01edJtlluBL"
   },
   "outputs": [],
   "source": [
    "import numpy as np\n",
    "import pandas as pd\n",
    "import matplotlib.pyplot as plt\n",
    "%matplotlib inline"
   ]
  },
  {
   "cell_type": "markdown",
   "metadata": {
    "id": "a5UcDdCIh5QG"
   },
   "source": [
    "### <font color='green'>Jaccard Distance</font>\n",
    "$$J(A,B) = 1 - \\frac{|A\\bigcap B|}{|A\\bigcup B|} $$"
   ]
  },
  {
   "cell_type": "code",
   "execution_count": null,
   "metadata": {
    "id": "7Zf289gdbPc2"
   },
   "outputs": [],
   "source": [
    "def jaccard_dist(A,B):\n",
    "    \"\"\"\n",
    "    Arguments: \n",
    "    A, B : list, set,  or array of elements to calculate distance on\n",
    "    Returns: Jaccard distance between A and B (viewed as sets) \n",
    "    \"\"\"\n",
    "    set_A=set(A)\n",
    "    set_B=set(B)\n",
    "    return 1.-len(set_A.intersection(set_B))/len(set_A.union(set_B))"
   ]
  },
  {
   "cell_type": "code",
   "execution_count": null,
   "metadata": {
    "colab": {
     "base_uri": "https://localhost:8080/"
    },
    "executionInfo": {
     "elapsed": 314,
     "status": "ok",
     "timestamp": 1643747855840,
     "user": {
      "displayName": "Joe Burdis",
      "photoUrl": "https://lh3.googleusercontent.com/a/default-user=s64",
      "userId": "05388749857082436046"
     },
     "user_tz": 300
    },
    "id": "7d1xUd-ZdA-0",
    "outputId": "9e7159d9-418f-41fc-dd0b-11fa3d17a5f3"
   },
   "outputs": [
    {
     "name": "stdout",
     "output_type": "stream",
     "text": [
      "I ran to class and I made it just in time.\n",
      "You walked to class and you were late.\n"
     ]
    },
    {
     "data": {
      "text/plain": [
       "0.8"
      ]
     },
     "execution_count": 3,
     "metadata": {},
     "output_type": "execute_result"
    }
   ],
   "source": [
    "A = \"I ran to class and I made it just in time.\"\n",
    "B = \"You walked to class and you were late.\"\n",
    "print(A)\n",
    "print(B)\n",
    "jaccard_dist(A.split(),B.split())"
   ]
  },
  {
   "cell_type": "markdown",
   "metadata": {
    "id": "D97Np3Z9AUEk"
   },
   "source": [
    "### <font color='green'>Cosine Distance</font>\n",
    "$$d(x,y) = 1 - \\frac{|x \\cdot y|}{||x||\\cdot||y||} $$"
   ]
  },
  {
   "cell_type": "code",
   "execution_count": 2,
   "metadata": {
    "colab": {
     "base_uri": "https://localhost:8080/"
    },
    "executionInfo": {
     "elapsed": 777,
     "status": "ok",
     "timestamp": 1643747856947,
     "user": {
      "displayName": "Joe Burdis",
      "photoUrl": "https://lh3.googleusercontent.com/a/default-user=s64",
      "userId": "05388749857082436046"
     },
     "user_tz": 300
    },
    "id": "41lKC3QsAUEl",
    "outputId": "3661ad43-89aa-4075-dc6e-309e75401ccf"
   },
   "outputs": [
    {
     "ename": "NameError",
     "evalue": "name 'A' is not defined",
     "output_type": "error",
     "traceback": [
      "\u001b[1;31m---------------------------------------------------------------------------\u001b[0m",
      "\u001b[1;31mNameError\u001b[0m                                 Traceback (most recent call last)",
      "\u001b[1;32m~\\AppData\\Local\\Temp/ipykernel_21428/1064444546.py\u001b[0m in \u001b[0;36m<module>\u001b[1;34m\u001b[0m\n\u001b[0;32m      1\u001b[0m \u001b[1;32mfrom\u001b[0m \u001b[0msklearn\u001b[0m\u001b[1;33m.\u001b[0m\u001b[0mfeature_extraction\u001b[0m\u001b[1;33m.\u001b[0m\u001b[0mtext\u001b[0m \u001b[1;32mimport\u001b[0m \u001b[0mCountVectorizer\u001b[0m\u001b[1;33m\u001b[0m\u001b[1;33m\u001b[0m\u001b[0m\n\u001b[0;32m      2\u001b[0m \u001b[0mvectorizer\u001b[0m \u001b[1;33m=\u001b[0m \u001b[0mCountVectorizer\u001b[0m\u001b[1;33m(\u001b[0m\u001b[1;33m)\u001b[0m\u001b[1;33m\u001b[0m\u001b[1;33m\u001b[0m\u001b[0m\n\u001b[1;32m----> 3\u001b[1;33m \u001b[0mX\u001b[0m \u001b[1;33m=\u001b[0m \u001b[0mvectorizer\u001b[0m\u001b[1;33m.\u001b[0m\u001b[0mfit_transform\u001b[0m\u001b[1;33m(\u001b[0m\u001b[1;33m[\u001b[0m\u001b[0mA\u001b[0m\u001b[1;33m,\u001b[0m\u001b[0mB\u001b[0m\u001b[1;33m]\u001b[0m\u001b[1;33m)\u001b[0m\u001b[1;33m\u001b[0m\u001b[1;33m\u001b[0m\u001b[0m\n\u001b[0m\u001b[0;32m      4\u001b[0m \u001b[0mvectorizer\u001b[0m\u001b[1;33m.\u001b[0m\u001b[0mget_feature_names\u001b[0m\u001b[1;33m(\u001b[0m\u001b[1;33m)\u001b[0m\u001b[1;33m\u001b[0m\u001b[1;33m\u001b[0m\u001b[0m\n",
      "\u001b[1;31mNameError\u001b[0m: name 'A' is not defined"
     ]
    }
   ],
   "source": [
    "from sklearn.feature_extraction.text import CountVectorizer\n",
    "vectorizer = CountVectorizer()\n",
    "X = vectorizer.fit_transform([A,B])\n",
    "vectorizer.get_feature_names()"
   ]
  },
  {
   "cell_type": "markdown",
   "metadata": {
    "id": "K-iT7VutAUEm"
   },
   "source": [
    "Why is \"i\" not in the the token list? BE CAREFUL USING DEFAULT PARAMETERS - ALWAYS CHECK! "
   ]
  },
  {
   "cell_type": "code",
   "execution_count": null,
   "metadata": {
    "colab": {
     "base_uri": "https://localhost:8080/"
    },
    "executionInfo": {
     "elapsed": 4,
     "status": "ok",
     "timestamp": 1643747857285,
     "user": {
      "displayName": "Joe Burdis",
      "photoUrl": "https://lh3.googleusercontent.com/a/default-user=s64",
      "userId": "05388749857082436046"
     },
     "user_tz": 300
    },
    "id": "EwoWiU6VAUEn",
    "outputId": "4d9d75cf-3cd6-46fa-dc5d-6f9841caa1d6"
   },
   "outputs": [
    {
     "name": "stderr",
     "output_type": "stream",
     "text": [
      "/usr/local/lib/python3.7/dist-packages/sklearn/utils/deprecation.py:87: FutureWarning: Function get_feature_names is deprecated; get_feature_names is deprecated in 1.0 and will be removed in 1.2. Please use get_feature_names_out instead.\n",
      "  warnings.warn(msg, category=FutureWarning)\n"
     ]
    },
    {
     "data": {
      "text/plain": [
       "['and',\n",
       " 'class',\n",
       " 'i',\n",
       " 'in',\n",
       " 'it',\n",
       " 'just',\n",
       " 'late',\n",
       " 'made',\n",
       " 'ran',\n",
       " 'time',\n",
       " 'to',\n",
       " 'walked',\n",
       " 'were',\n",
       " 'you']"
      ]
     },
     "execution_count": 5,
     "metadata": {},
     "output_type": "execute_result"
    }
   ],
   "source": [
    "vectorizer = CountVectorizer(token_pattern=r'\\b\\w+\\b')\n",
    "X = vectorizer.fit_transform([A,B])\n",
    "vectorizer.get_feature_names()"
   ]
  },
  {
   "cell_type": "code",
   "execution_count": null,
   "metadata": {
    "colab": {
     "base_uri": "https://localhost:8080/"
    },
    "executionInfo": {
     "elapsed": 6,
     "status": "ok",
     "timestamp": 1643747857855,
     "user": {
      "displayName": "Joe Burdis",
      "photoUrl": "https://lh3.googleusercontent.com/a/default-user=s64",
      "userId": "05388749857082436046"
     },
     "user_tz": 300
    },
    "id": "Vu5HUZpmAUEn",
    "outputId": "8a1d632c-d719-4ec8-ba4e-6bbef49d3e13"
   },
   "outputs": [
    {
     "data": {
      "text/plain": [
       "array([[1, 1, 2, 1, 1, 1, 0, 1, 1, 1, 1, 0, 0, 0],\n",
       "       [1, 1, 0, 0, 0, 0, 1, 0, 0, 0, 1, 1, 1, 2]])"
      ]
     },
     "execution_count": 6,
     "metadata": {},
     "output_type": "execute_result"
    }
   ],
   "source": [
    "X=X.toarray()\n",
    "X"
   ]
  },
  {
   "cell_type": "code",
   "execution_count": null,
   "metadata": {
    "id": "e6YxcofWAUEo"
   },
   "outputs": [],
   "source": [
    "def cosine_dist(x,y):\n",
    "    \"\"\"\n",
    "    Arguments: \n",
    "    x, y : array of numeric values to calculate distance on\n",
    "    Returns: Cosine distance between x and y \n",
    "    \"\"\"\n",
    "    return 1. - np.dot(x,y) / np.sqrt(np.dot(x,x)*np.dot(y,y))"
   ]
  },
  {
   "cell_type": "code",
   "execution_count": null,
   "metadata": {
    "colab": {
     "base_uri": "https://localhost:8080/"
    },
    "executionInfo": {
     "elapsed": 3,
     "status": "ok",
     "timestamp": 1643747860580,
     "user": {
      "displayName": "Joe Burdis",
      "photoUrl": "https://lh3.googleusercontent.com/a/default-user=s64",
      "userId": "05388749857082436046"
     },
     "user_tz": 300
    },
    "id": "svswn6DEAUEp",
    "outputId": "da549dbb-9ae1-401e-bccf-ba7db3dd5565"
   },
   "outputs": [
    {
     "data": {
      "text/plain": [
       "0.7368825942078912"
      ]
     },
     "execution_count": 9,
     "metadata": {},
     "output_type": "execute_result"
    }
   ],
   "source": [
    "cosine_dist(X[0],X[1])"
   ]
  },
  {
   "cell_type": "code",
   "execution_count": null,
   "metadata": {
    "id": "xjuWKhgmAd6I"
   },
   "outputs": [],
   "source": []
  }
 ],
 "metadata": {
  "colab": {
   "collapsed_sections": [],
   "name": "Workbook1.ipynb",
   "provenance": [],
   "toc_visible": true
  },
  "kernelspec": {
   "display_name": "Python 3 (ipykernel)",
   "language": "python",
   "name": "python3"
  },
  "language_info": {
   "codemirror_mode": {
    "name": "ipython",
    "version": 3
   },
   "file_extension": ".py",
   "mimetype": "text/x-python",
   "name": "python",
   "nbconvert_exporter": "python",
   "pygments_lexer": "ipython3",
   "version": "3.9.7"
  }
 },
 "nbformat": 4,
 "nbformat_minor": 1
}
