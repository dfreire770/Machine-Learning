{
 "cells": [
  {
   "cell_type": "code",
   "execution_count": 1,
   "id": "8c5ad87a",
   "metadata": {},
   "outputs": [],
   "source": [
    "import pickle\n",
    "\n",
    "# load model\n",
    "\n",
    "model = pickle.load(open('svc_model.pkl','rb'))"
   ]
  },
  {
   "cell_type": "code",
   "execution_count": 2,
   "id": "f1281ef6",
   "metadata": {},
   "outputs": [
    {
     "data": {
      "text/plain": [
       "SVC(probability=True)"
      ]
     },
     "execution_count": 2,
     "metadata": {},
     "output_type": "execute_result"
    }
   ],
   "source": [
    "model"
   ]
  },
  {
   "cell_type": "code",
   "execution_count": 5,
   "id": "9ad1428b",
   "metadata": {},
   "outputs": [],
   "source": [
    "import python_speech_features as mfcc\n",
    "import os\n",
    "from scipy.io import wavfile\n",
    "#from hmmlearn import hmm\n",
    "import numpy as np\n",
    "import pandas as pd\n",
    "import librosa"
   ]
  },
  {
   "cell_type": "code",
   "execution_count": 6,
   "id": "330ffc6a",
   "metadata": {},
   "outputs": [],
   "source": [
    "train_csv = pd.read_csv('preprocessed/train.csv')\n",
    "mfcc_features = pd.read_csv('mfcc_features.csv')"
   ]
  },
  {
   "cell_type": "code",
   "execution_count": 7,
   "id": "f42ebc2a",
   "metadata": {},
   "outputs": [
    {
     "data": {
      "text/plain": [
       "España             74992\n",
       "México             15448\n",
       "Andino             11699\n",
       "Rioplatense        10621\n",
       "Caribe              7661\n",
       "América central     5565\n",
       "Chileno             3918\n",
       "Name: accent, dtype: int64"
      ]
     },
     "execution_count": 7,
     "metadata": {},
     "output_type": "execute_result"
    }
   ],
   "source": [
    "mfcc_features['accent'].value_counts()"
   ]
  },
  {
   "cell_type": "code",
   "execution_count": 8,
   "id": "240dea33",
   "metadata": {},
   "outputs": [],
   "source": [
    "\"\"\"replacement = {'México':'Latinoamericano',\n",
    "               'América central':'Latinoamericano',\n",
    "               'Andino':'Latinoamericano',\n",
    "               'Rioplatense':'Latinoamericano',\n",
    "               'Chileno': 'Latinoamericano',\n",
    "               'Caribe': 'Latinoamericano',\n",
    "              }\n",
    "\"\"\"\n",
    "\n",
    "replacement = {'México':0,\n",
    "               'América central':0,\n",
    "               'Andino':0,\n",
    "               'Rioplatense':0,\n",
    "               'Chileno': 0,\n",
    "               'Caribe': 0,\n",
    "               'España':1\n",
    "              }\n",
    "\n",
    "mfcc_features['accent'] = mfcc_features['accent'].replace(replacement)\n"
   ]
  },
  {
   "cell_type": "code",
   "execution_count": 10,
   "id": "3daef282",
   "metadata": {},
   "outputs": [
    {
     "data": {
      "text/plain": [
       "1    74992\n",
       "0    54912\n",
       "Name: accent, dtype: int64"
      ]
     },
     "execution_count": 10,
     "metadata": {},
     "output_type": "execute_result"
    }
   ],
   "source": [
    "mfcc_features['accent'].value_counts()"
   ]
  },
  {
   "cell_type": "code",
   "execution_count": 11,
   "id": "0c96da58",
   "metadata": {},
   "outputs": [
    {
     "data": {
      "text/plain": [
       "0    3656\n",
       "1    1344\n",
       "Name: accent, dtype: int64"
      ]
     },
     "execution_count": 11,
     "metadata": {},
     "output_type": "execute_result"
    }
   ],
   "source": [
    "mfcc_features['accent'][:5000].value_counts()"
   ]
  },
  {
   "cell_type": "code",
   "execution_count": 72,
   "id": "a2ed40fd",
   "metadata": {},
   "outputs": [],
   "source": [
    "from sklearn.preprocessing import StandardScaler\n",
    "\n",
    "def scale_features(data):\n",
    "    scaler = StandardScaler()\n",
    "    scaled_data = scaler.fit_transform(np.array(data.iloc[:, 1:], dtype = float))\n",
    "    # with data.iloc[:, 0:-1] we don't consider the label column\n",
    "        \n",
    "    return scaled_data, scaler\n",
    "\n",
    "\n",
    "x, scaler = scale_features(mfcc_features)"
   ]
  },
  {
   "cell_type": "code",
   "execution_count": 73,
   "id": "75caf75a",
   "metadata": {},
   "outputs": [
    {
     "name": "stdout",
     "output_type": "stream",
     "text": [
      "Before encoding: 0.0\n",
      "\n",
      "After encoding: 0\n",
      "\n",
      "Classes: [0 1]\n"
     ]
    }
   ],
   "source": [
    "from sklearn.preprocessing import LabelEncoder\n",
    "\n",
    "def get_labels(data):\n",
    "    labels = data.iloc[:, 1]\n",
    "    encoder = LabelEncoder()\n",
    "    labels = encoder.fit_transform(labels)\n",
    "    return labels, encoder\n",
    "\n",
    "y, encoder = get_labels(mfcc_features)\n",
    "classes = encoder.classes_\n",
    "print(\"Before encoding:\", mfcc_features.iloc[0].values[1])\n",
    "print(\"\\nAfter encoding:\", y[1])\n",
    "print(\"\\nClasses:\", classes)"
   ]
  },
  {
   "cell_type": "code",
   "execution_count": 46,
   "id": "240a26ef",
   "metadata": {},
   "outputs": [
    {
     "data": {
      "text/plain": [
       "Unnamed: 0            129899.000000\n",
       "accent                     2.000000\n",
       "spectral_centroid       1322.034468\n",
       "spectral_bandwidth      1492.653932\n",
       "spectral_rolloff        2617.811366\n",
       "mfcc1                   -492.601620\n",
       "mfcc2                    118.546074\n",
       "mfcc3                     13.053954\n",
       "mfcc4                     42.518433\n",
       "mfcc5                     39.099270\n",
       "mfcc6                     12.175418\n",
       "mfcc7                     22.940990\n",
       "mfcc8                      4.345521\n",
       "mfcc9                    -12.084730\n",
       "mfcc10                     6.653798\n",
       "mfcc11                     5.192945\n",
       "mfcc12                    -7.270759\n",
       "mfcc13                    -7.877683\n",
       "Name: 129899, dtype: float64"
      ]
     },
     "execution_count": 46,
     "metadata": {},
     "output_type": "execute_result"
    }
   ],
   "source": [
    " mfcc_features.iloc[129899]"
   ]
  },
  {
   "cell_type": "code",
   "execution_count": 60,
   "id": "df8765de",
   "metadata": {},
   "outputs": [
    {
     "data": {
      "text/html": [
       "<div>\n",
       "<style scoped>\n",
       "    .dataframe tbody tr th:only-of-type {\n",
       "        vertical-align: middle;\n",
       "    }\n",
       "\n",
       "    .dataframe tbody tr th {\n",
       "        vertical-align: top;\n",
       "    }\n",
       "\n",
       "    .dataframe thead th {\n",
       "        text-align: right;\n",
       "    }\n",
       "</style>\n",
       "<table border=\"1\" class=\"dataframe\">\n",
       "  <thead>\n",
       "    <tr style=\"text-align: right;\">\n",
       "      <th></th>\n",
       "      <th>Unnamed: 0</th>\n",
       "      <th>accent</th>\n",
       "      <th>spectral_centroid</th>\n",
       "      <th>spectral_bandwidth</th>\n",
       "      <th>spectral_rolloff</th>\n",
       "      <th>mfcc1</th>\n",
       "      <th>mfcc2</th>\n",
       "      <th>mfcc3</th>\n",
       "      <th>mfcc4</th>\n",
       "      <th>mfcc5</th>\n",
       "      <th>mfcc6</th>\n",
       "      <th>mfcc7</th>\n",
       "      <th>mfcc8</th>\n",
       "      <th>mfcc9</th>\n",
       "      <th>mfcc10</th>\n",
       "      <th>mfcc11</th>\n",
       "      <th>mfcc12</th>\n",
       "      <th>mfcc13</th>\n",
       "    </tr>\n",
       "  </thead>\n",
       "  <tbody>\n",
       "    <tr>\n",
       "      <th>0</th>\n",
       "      <td>0</td>\n",
       "      <td>0</td>\n",
       "      <td>1677.718785</td>\n",
       "      <td>1612.745697</td>\n",
       "      <td>3358.794145</td>\n",
       "      <td>-569.73413</td>\n",
       "      <td>128.704030</td>\n",
       "      <td>6.969439</td>\n",
       "      <td>8.466482</td>\n",
       "      <td>9.177470</td>\n",
       "      <td>2.072889</td>\n",
       "      <td>3.930073</td>\n",
       "      <td>-15.301613</td>\n",
       "      <td>-7.267760</td>\n",
       "      <td>10.540461</td>\n",
       "      <td>-2.708580</td>\n",
       "      <td>-6.161283</td>\n",
       "      <td>-2.961534</td>\n",
       "    </tr>\n",
       "    <tr>\n",
       "      <th>1</th>\n",
       "      <td>1</td>\n",
       "      <td>0</td>\n",
       "      <td>1619.961935</td>\n",
       "      <td>1550.527875</td>\n",
       "      <td>3185.866592</td>\n",
       "      <td>-536.89484</td>\n",
       "      <td>132.884670</td>\n",
       "      <td>14.828790</td>\n",
       "      <td>4.359267</td>\n",
       "      <td>3.613036</td>\n",
       "      <td>5.550890</td>\n",
       "      <td>5.075633</td>\n",
       "      <td>-21.225660</td>\n",
       "      <td>-12.947938</td>\n",
       "      <td>6.962500</td>\n",
       "      <td>-4.414804</td>\n",
       "      <td>-6.305440</td>\n",
       "      <td>-3.568841</td>\n",
       "    </tr>\n",
       "    <tr>\n",
       "      <th>2</th>\n",
       "      <td>2</td>\n",
       "      <td>0</td>\n",
       "      <td>1681.779715</td>\n",
       "      <td>1537.107681</td>\n",
       "      <td>3294.990647</td>\n",
       "      <td>-552.82900</td>\n",
       "      <td>133.168930</td>\n",
       "      <td>11.685370</td>\n",
       "      <td>-2.057885</td>\n",
       "      <td>-0.008511</td>\n",
       "      <td>1.975699</td>\n",
       "      <td>4.581186</td>\n",
       "      <td>-15.395591</td>\n",
       "      <td>-10.483634</td>\n",
       "      <td>6.167295</td>\n",
       "      <td>-1.988072</td>\n",
       "      <td>-3.231391</td>\n",
       "      <td>-0.737840</td>\n",
       "    </tr>\n",
       "    <tr>\n",
       "      <th>3</th>\n",
       "      <td>3</td>\n",
       "      <td>0</td>\n",
       "      <td>1845.987325</td>\n",
       "      <td>1679.445156</td>\n",
       "      <td>3671.334774</td>\n",
       "      <td>-546.22656</td>\n",
       "      <td>104.266120</td>\n",
       "      <td>16.771282</td>\n",
       "      <td>2.452711</td>\n",
       "      <td>4.185177</td>\n",
       "      <td>5.208492</td>\n",
       "      <td>0.743853</td>\n",
       "      <td>-16.445913</td>\n",
       "      <td>-9.057341</td>\n",
       "      <td>5.203734</td>\n",
       "      <td>-4.611980</td>\n",
       "      <td>-9.243179</td>\n",
       "      <td>-2.910447</td>\n",
       "    </tr>\n",
       "    <tr>\n",
       "      <th>4</th>\n",
       "      <td>4</td>\n",
       "      <td>0</td>\n",
       "      <td>1692.338682</td>\n",
       "      <td>1627.176669</td>\n",
       "      <td>3296.535326</td>\n",
       "      <td>-531.99520</td>\n",
       "      <td>128.998030</td>\n",
       "      <td>14.050061</td>\n",
       "      <td>7.137925</td>\n",
       "      <td>6.429101</td>\n",
       "      <td>6.554248</td>\n",
       "      <td>2.741421</td>\n",
       "      <td>-24.812666</td>\n",
       "      <td>-13.605760</td>\n",
       "      <td>7.323435</td>\n",
       "      <td>-4.648766</td>\n",
       "      <td>-6.041638</td>\n",
       "      <td>-3.786564</td>\n",
       "    </tr>\n",
       "    <tr>\n",
       "      <th>...</th>\n",
       "      <td>...</td>\n",
       "      <td>...</td>\n",
       "      <td>...</td>\n",
       "      <td>...</td>\n",
       "      <td>...</td>\n",
       "      <td>...</td>\n",
       "      <td>...</td>\n",
       "      <td>...</td>\n",
       "      <td>...</td>\n",
       "      <td>...</td>\n",
       "      <td>...</td>\n",
       "      <td>...</td>\n",
       "      <td>...</td>\n",
       "      <td>...</td>\n",
       "      <td>...</td>\n",
       "      <td>...</td>\n",
       "      <td>...</td>\n",
       "      <td>...</td>\n",
       "    </tr>\n",
       "    <tr>\n",
       "      <th>9995</th>\n",
       "      <td>9995</td>\n",
       "      <td>0</td>\n",
       "      <td>1604.673859</td>\n",
       "      <td>1499.800469</td>\n",
       "      <td>3185.582386</td>\n",
       "      <td>-375.62567</td>\n",
       "      <td>109.994700</td>\n",
       "      <td>-1.103966</td>\n",
       "      <td>3.337362</td>\n",
       "      <td>5.023191</td>\n",
       "      <td>-12.548165</td>\n",
       "      <td>-8.006364</td>\n",
       "      <td>-5.329917</td>\n",
       "      <td>-0.575209</td>\n",
       "      <td>0.847520</td>\n",
       "      <td>-8.430272</td>\n",
       "      <td>-10.862280</td>\n",
       "      <td>-13.539113</td>\n",
       "    </tr>\n",
       "    <tr>\n",
       "      <th>9996</th>\n",
       "      <td>9996</td>\n",
       "      <td>0</td>\n",
       "      <td>1512.619845</td>\n",
       "      <td>1456.740810</td>\n",
       "      <td>3009.677156</td>\n",
       "      <td>-376.19860</td>\n",
       "      <td>133.051180</td>\n",
       "      <td>-12.700054</td>\n",
       "      <td>-2.880110</td>\n",
       "      <td>2.980373</td>\n",
       "      <td>-14.621652</td>\n",
       "      <td>-6.111285</td>\n",
       "      <td>-8.343706</td>\n",
       "      <td>-4.435156</td>\n",
       "      <td>4.592192</td>\n",
       "      <td>-1.841004</td>\n",
       "      <td>-5.927738</td>\n",
       "      <td>-13.076294</td>\n",
       "    </tr>\n",
       "    <tr>\n",
       "      <th>9997</th>\n",
       "      <td>9997</td>\n",
       "      <td>0</td>\n",
       "      <td>1652.647172</td>\n",
       "      <td>1438.211296</td>\n",
       "      <td>3096.038277</td>\n",
       "      <td>-377.63596</td>\n",
       "      <td>119.675964</td>\n",
       "      <td>-5.690570</td>\n",
       "      <td>5.225908</td>\n",
       "      <td>7.438576</td>\n",
       "      <td>-12.451978</td>\n",
       "      <td>-7.420503</td>\n",
       "      <td>-9.585105</td>\n",
       "      <td>-4.131483</td>\n",
       "      <td>3.888522</td>\n",
       "      <td>-4.255625</td>\n",
       "      <td>-8.398252</td>\n",
       "      <td>-13.990422</td>\n",
       "    </tr>\n",
       "    <tr>\n",
       "      <th>9998</th>\n",
       "      <td>9998</td>\n",
       "      <td>0</td>\n",
       "      <td>1579.832533</td>\n",
       "      <td>1403.813838</td>\n",
       "      <td>3014.873798</td>\n",
       "      <td>-354.54654</td>\n",
       "      <td>120.235430</td>\n",
       "      <td>-5.376558</td>\n",
       "      <td>-5.086518</td>\n",
       "      <td>5.066173</td>\n",
       "      <td>-10.040578</td>\n",
       "      <td>-8.872187</td>\n",
       "      <td>-5.993078</td>\n",
       "      <td>-1.415015</td>\n",
       "      <td>1.019012</td>\n",
       "      <td>-4.854206</td>\n",
       "      <td>-8.119527</td>\n",
       "      <td>-13.371272</td>\n",
       "    </tr>\n",
       "    <tr>\n",
       "      <th>9999</th>\n",
       "      <td>9999</td>\n",
       "      <td>0</td>\n",
       "      <td>1636.307340</td>\n",
       "      <td>1339.280069</td>\n",
       "      <td>3021.884006</td>\n",
       "      <td>-382.77972</td>\n",
       "      <td>116.989330</td>\n",
       "      <td>-7.370496</td>\n",
       "      <td>-0.441819</td>\n",
       "      <td>5.779850</td>\n",
       "      <td>-13.751047</td>\n",
       "      <td>-10.599967</td>\n",
       "      <td>-8.899261</td>\n",
       "      <td>-3.691820</td>\n",
       "      <td>3.230272</td>\n",
       "      <td>-3.068878</td>\n",
       "      <td>-8.352079</td>\n",
       "      <td>-13.623349</td>\n",
       "    </tr>\n",
       "  </tbody>\n",
       "</table>\n",
       "<p>10000 rows × 18 columns</p>\n",
       "</div>"
      ],
      "text/plain": [
       "      Unnamed: 0  accent  spectral_centroid  spectral_bandwidth  \\\n",
       "0              0       0        1677.718785         1612.745697   \n",
       "1              1       0        1619.961935         1550.527875   \n",
       "2              2       0        1681.779715         1537.107681   \n",
       "3              3       0        1845.987325         1679.445156   \n",
       "4              4       0        1692.338682         1627.176669   \n",
       "...          ...     ...                ...                 ...   \n",
       "9995        9995       0        1604.673859         1499.800469   \n",
       "9996        9996       0        1512.619845         1456.740810   \n",
       "9997        9997       0        1652.647172         1438.211296   \n",
       "9998        9998       0        1579.832533         1403.813838   \n",
       "9999        9999       0        1636.307340         1339.280069   \n",
       "\n",
       "      spectral_rolloff      mfcc1       mfcc2      mfcc3     mfcc4     mfcc5  \\\n",
       "0          3358.794145 -569.73413  128.704030   6.969439  8.466482  9.177470   \n",
       "1          3185.866592 -536.89484  132.884670  14.828790  4.359267  3.613036   \n",
       "2          3294.990647 -552.82900  133.168930  11.685370 -2.057885 -0.008511   \n",
       "3          3671.334774 -546.22656  104.266120  16.771282  2.452711  4.185177   \n",
       "4          3296.535326 -531.99520  128.998030  14.050061  7.137925  6.429101   \n",
       "...                ...        ...         ...        ...       ...       ...   \n",
       "9995       3185.582386 -375.62567  109.994700  -1.103966  3.337362  5.023191   \n",
       "9996       3009.677156 -376.19860  133.051180 -12.700054 -2.880110  2.980373   \n",
       "9997       3096.038277 -377.63596  119.675964  -5.690570  5.225908  7.438576   \n",
       "9998       3014.873798 -354.54654  120.235430  -5.376558 -5.086518  5.066173   \n",
       "9999       3021.884006 -382.77972  116.989330  -7.370496 -0.441819  5.779850   \n",
       "\n",
       "          mfcc6      mfcc7      mfcc8      mfcc9     mfcc10    mfcc11  \\\n",
       "0      2.072889   3.930073 -15.301613  -7.267760  10.540461 -2.708580   \n",
       "1      5.550890   5.075633 -21.225660 -12.947938   6.962500 -4.414804   \n",
       "2      1.975699   4.581186 -15.395591 -10.483634   6.167295 -1.988072   \n",
       "3      5.208492   0.743853 -16.445913  -9.057341   5.203734 -4.611980   \n",
       "4      6.554248   2.741421 -24.812666 -13.605760   7.323435 -4.648766   \n",
       "...         ...        ...        ...        ...        ...       ...   \n",
       "9995 -12.548165  -8.006364  -5.329917  -0.575209   0.847520 -8.430272   \n",
       "9996 -14.621652  -6.111285  -8.343706  -4.435156   4.592192 -1.841004   \n",
       "9997 -12.451978  -7.420503  -9.585105  -4.131483   3.888522 -4.255625   \n",
       "9998 -10.040578  -8.872187  -5.993078  -1.415015   1.019012 -4.854206   \n",
       "9999 -13.751047 -10.599967  -8.899261  -3.691820   3.230272 -3.068878   \n",
       "\n",
       "         mfcc12     mfcc13  \n",
       "0     -6.161283  -2.961534  \n",
       "1     -6.305440  -3.568841  \n",
       "2     -3.231391  -0.737840  \n",
       "3     -9.243179  -2.910447  \n",
       "4     -6.041638  -3.786564  \n",
       "...         ...        ...  \n",
       "9995 -10.862280 -13.539113  \n",
       "9996  -5.927738 -13.076294  \n",
       "9997  -8.398252 -13.990422  \n",
       "9998  -8.119527 -13.371272  \n",
       "9999  -8.352079 -13.623349  \n",
       "\n",
       "[10000 rows x 18 columns]"
      ]
     },
     "execution_count": 60,
     "metadata": {},
     "output_type": "execute_result"
    }
   ],
   "source": [
    "mfcc_features[:10000]"
   ]
  },
  {
   "cell_type": "code",
   "execution_count": 61,
   "id": "91d770b3",
   "metadata": {},
   "outputs": [
    {
     "data": {
      "text/plain": [
       "SVC(gamma='auto', probability=True)"
      ]
     },
     "execution_count": 61,
     "metadata": {},
     "output_type": "execute_result"
    }
   ],
   "source": [
    "from sklearn import svm\n",
    "\n",
    "X = mfcc_features.drop(['Unnamed: 0','accent'], axis=1)[:5000]\n",
    "Y = mfcc_features['accent'][:5000]\n",
    "\n",
    "clf = \n",
    "\n",
    "#clf = svm.SVC(probability = True, gamma='auto')\n",
    "#clf.fit(X, Y)"
   ]
  },
  {
   "cell_type": "code",
   "execution_count": null,
   "id": "7940cc8d",
   "metadata": {},
   "outputs": [],
   "source": [
    "mfcc_features.drop('accent')"
   ]
  },
  {
   "cell_type": "code",
   "execution_count": 172,
   "id": "a7cdd004",
   "metadata": {},
   "outputs": [
    {
     "data": {
      "text/plain": [
       "México             277\n",
       "Andino             218\n",
       "España             186\n",
       "Rioplatense        135\n",
       "América central    112\n",
       "Chileno             45\n",
       "Caribe              27\n",
       "Name: accents, dtype: int64"
      ]
     },
     "execution_count": 172,
     "metadata": {},
     "output_type": "execute_result"
    }
   ],
   "source": [
    "train_csv['accents'][:1000].value_counts()"
   ]
  },
  {
   "cell_type": "code",
   "execution_count": 12,
   "id": "6f8af278",
   "metadata": {},
   "outputs": [],
   "source": [
    "#this function is used to extract audio frequency features\n",
    "def feature_extraction(ds_path, filename, sampling_rate=48000, mfcc_num=20):\n",
    "    path = \"{}{}\".format(ds_path, filename)\n",
    "    features = list()\n",
    "    audio, _ = librosa.load(path, sr=sampling_rate)\n",
    "    \n",
    "    #accents = train_csv[train_csv['path'] == filename].accents.values[0]\n",
    "    spectral_centroid = np.mean(librosa.feature.spectral_centroid(y=audio, sr=sampling_rate))\n",
    "    spectral_bandwidth = np.mean(librosa.feature.spectral_bandwidth(y=audio, sr=sampling_rate))\n",
    "    spectral_rolloff = np.mean(librosa.feature.spectral_rolloff(y=audio, sr=sampling_rate))\n",
    "    #features.append(accents)\n",
    "    features.append(spectral_centroid)\n",
    "    features.append(spectral_bandwidth)\n",
    "    features.append(spectral_rolloff)\n",
    "    \n",
    "    # Extract mfcc features. First experiment\n",
    "    # hop_length=10\n",
    "    mfcc = librosa.feature.mfcc(y=audio, sr=sampling_rate, n_mfcc=mfcc_num) # it returns 20 by default.\n",
    "    for el in mfcc:\n",
    "        features.append(np.mean(el))\n",
    "    \n",
    "    return features\n",
    "    \n",
    "        \n",
    "#features = feature_extraction(train_csv['path'][15])\n",
    "#print(\"features: \", features)\n"
   ]
  },
  {
   "cell_type": "code",
   "execution_count": 107,
   "id": "44c9a7ed",
   "metadata": {},
   "outputs": [],
   "source": [
    "classes= ['América central', 'Andino', 'Caribe', 'Chileno', 'España', 'México',\n",
    "'Rioplatense']\n",
    "\n",
    "# latinamericano 1\n",
    "# espana 2"
   ]
  },
  {
   "cell_type": "code",
   "execution_count": 76,
   "id": "bb3c5355",
   "metadata": {},
   "outputs": [
    {
     "data": {
      "text/plain": [
       "'common_voice_es_19749309.wav'"
      ]
     },
     "execution_count": 76,
     "metadata": {},
     "output_type": "execute_result"
    }
   ],
   "source": [
    "train_csv['path'][1]"
   ]
  },
  {
   "cell_type": "code",
   "execution_count": 33,
   "id": "a2d58e58",
   "metadata": {},
   "outputs": [],
   "source": [
    "import sounddevice as sd\n",
    "from scipy.io.wavfile import write\n",
    "import wavio as wv\n",
    "  \n",
    "# Sampling frequency\n",
    "freq = 44100\n",
    "  \n",
    "# Recording duration\n",
    "duration = 5\n",
    "  \n",
    "# Start recorder with the given values \n",
    "# of duration and sample frequency\n",
    "recording = sd.rec(int(duration * freq), \n",
    "                   samplerate=freq, channels=2)\n",
    "  \n",
    "# Record audio for the given number of seconds\n",
    "sd.wait()\n",
    "  \n",
    "# This will convert the NumPy array to an audio\n",
    "# file with the given sampling frequency\n",
    "write(\"recording0.wav\", freq, recording)\n",
    "  \n",
    "# Convert the NumPy array to audio file\n",
    "wv.write(\"recording1.wav\", recording, freq, sampwidth=2)"
   ]
  },
  {
   "cell_type": "code",
   "execution_count": 34,
   "id": "8d382221",
   "metadata": {},
   "outputs": [],
   "source": [
    "file_path = \"./\"\n",
    "#file_name = train_csv['path'][970]\n",
    "file_name = 'recording0.wav'\n",
    "features = feature_extraction(ds_path = file_path, filename = file_name, mfcc_num = 13)"
   ]
  },
  {
   "cell_type": "code",
   "execution_count": 100,
   "id": "e0db09df",
   "metadata": {},
   "outputs": [
    {
     "data": {
      "text/plain": [
       "Unnamed: 0                                                17586\n",
       "client_id     45e81a8f415d858b75eab90a89f4786639a06db9e2da71...\n",
       "path                               common_voice_es_20234709.wav\n",
       "sentence       Estas entidades se pueden dividir en categorías.\n",
       "up_votes                                                      2\n",
       "down_votes                                                    0\n",
       "age                                                       teens\n",
       "gender                                                     male\n",
       "accents                                                  Andino\n",
       "locale                                                       es\n",
       "segment                                                     NaN\n",
       "Name: 5550, dtype: object"
      ]
     },
     "execution_count": 100,
     "metadata": {},
     "output_type": "execute_result"
    }
   ],
   "source": [
    "train_csv[train_csv['accents']=='Andino'].iloc[1000]"
   ]
  },
  {
   "cell_type": "code",
   "execution_count": 101,
   "id": "723a45eb",
   "metadata": {},
   "outputs": [],
   "source": [
    "#test_file = features[1:] # when using train csv file\n",
    "#mfcc_features.iloc[129899]\n",
    "test_file = mfcc_features.iloc[5550]"
   ]
  },
  {
   "cell_type": "code",
   "execution_count": 102,
   "id": "0ee6d2c3",
   "metadata": {},
   "outputs": [
    {
     "data": {
      "text/plain": [
       "Unnamed: 0                                                17586\n",
       "client_id     45e81a8f415d858b75eab90a89f4786639a06db9e2da71...\n",
       "path                               common_voice_es_20234709.wav\n",
       "sentence       Estas entidades se pueden dividir en categorías.\n",
       "up_votes                                                      2\n",
       "down_votes                                                    0\n",
       "age                                                       teens\n",
       "gender                                                     male\n",
       "accents                                                  Andino\n",
       "locale                                                       es\n",
       "segment                                                     NaN\n",
       "Name: 5550, dtype: object"
      ]
     },
     "execution_count": 102,
     "metadata": {},
     "output_type": "execute_result"
    }
   ],
   "source": [
    "train_csv.iloc[5550]"
   ]
  },
  {
   "cell_type": "code",
   "execution_count": 103,
   "id": "5b4f9f39",
   "metadata": {},
   "outputs": [],
   "source": [
    "test_file = test_file.drop(['Unnamed: 0','accent'])"
   ]
  },
  {
   "cell_type": "code",
   "execution_count": 104,
   "id": "1cb87883",
   "metadata": {},
   "outputs": [
    {
     "data": {
      "text/plain": [
       "spectral_centroid     2126.055798\n",
       "spectral_bandwidth    1432.311014\n",
       "spectral_rolloff      3617.024059\n",
       "mfcc1                 -258.400180\n",
       "mfcc2                  181.968750\n",
       "mfcc3                  -79.777190\n",
       "mfcc4                   -7.084609\n",
       "mfcc5                   29.988040\n",
       "mfcc6                  -19.086388\n",
       "mfcc7                    4.147798\n",
       "mfcc8                    4.508232\n",
       "mfcc9                   -8.835572\n",
       "mfcc10                  11.619371\n",
       "mfcc11                   7.091634\n",
       "mfcc12                   0.926358\n",
       "mfcc13                   5.221154\n",
       "Name: 5550, dtype: float64"
      ]
     },
     "execution_count": 104,
     "metadata": {},
     "output_type": "execute_result"
    }
   ],
   "source": [
    "test_file"
   ]
  },
  {
   "cell_type": "code",
   "execution_count": 105,
   "id": "a1ab7384",
   "metadata": {
    "scrolled": true
   },
   "outputs": [],
   "source": [
    "classes= ['América central', 'Andino', 'Caribe', 'Chileno', 'España', 'México',\n",
    "'Rioplatense']\n",
    "\n",
    "result = model.predict_proba([test_file])"
   ]
  },
  {
   "cell_type": "code",
   "execution_count": 106,
   "id": "5290c5ea",
   "metadata": {},
   "outputs": [
    {
     "data": {
      "text/plain": [
       "array([[0.09343347, 0.15489775, 0.12169715, 0.04690984, 0.36577837,\n",
       "        0.18258019, 0.03470322]])"
      ]
     },
     "execution_count": 106,
     "metadata": {},
     "output_type": "execute_result"
    }
   ],
   "source": [
    "result"
   ]
  },
  {
   "cell_type": "code",
   "execution_count": null,
   "id": "f67d6795",
   "metadata": {},
   "outputs": [],
   "source": []
  },
  {
   "cell_type": "code",
   "execution_count": null,
   "id": "7642b35e",
   "metadata": {},
   "outputs": [],
   "source": []
  },
  {
   "cell_type": "code",
   "execution_count": null,
   "id": "71d19804",
   "metadata": {},
   "outputs": [],
   "source": []
  },
  {
   "cell_type": "code",
   "execution_count": 78,
   "id": "109e220c",
   "metadata": {},
   "outputs": [
    {
     "data": {
      "text/plain": [
       "array([[ 1.05200590e-01, -1.01638018e+00, -2.31386767e+00,\n",
       "        -1.39160307e+00, -8.94668254e-01, -1.24928971e+00,\n",
       "         3.03219466e-01, -9.18485010e-01, -1.09697137e+00,\n",
       "        -1.58605062e-01, -8.09485689e-01, -7.43264887e-01,\n",
       "        -2.72052464e-01, -5.61490796e-01, -1.94209802e-01,\n",
       "        -4.60500503e-01, -4.98285728e-01],\n",
       "       [ 8.55709124e-01,  1.54653615e-01, -2.65046863e-01,\n",
       "         2.37722071e-02, -1.32433305e-01,  1.46153670e-01,\n",
       "        -1.49569020e-01, -4.87673304e-01, -1.31522613e-01,\n",
       "        -5.38745677e-02, -4.66432710e-01, -2.67204073e-01,\n",
       "        -5.46360737e-03, -3.20696383e-01, -3.17654828e-01,\n",
       "        -6.93881604e-02,  1.42861022e-01],\n",
       "       [ 8.55709124e-01, -1.21401947e+00, -2.61186353e-01,\n",
       "        -1.06393632e+00, -3.38231275e-02,  2.78590072e-01,\n",
       "         8.91145132e-01,  1.04705945e+00,  1.25359418e+00,\n",
       "         8.83181519e-01,  7.20165985e-01,  1.34771016e+00,\n",
       "         2.58772542e-01, -9.24610201e-02,  1.10582671e+00,\n",
       "         5.26730767e-01, -3.00573968e-01],\n",
       "       [-1.16862141e+00,  2.45871734e-01, -3.28750508e-02,\n",
       "         1.46851799e-01, -8.89367079e-02, -1.70155578e-01,\n",
       "         1.47731868e-02, -3.34270084e-01, -4.91225876e-01,\n",
       "        -2.20280488e-01, -2.57521241e-01, -3.87521898e-01,\n",
       "        -1.43827090e-01, -5.24350220e-04, -1.90659261e-02,\n",
       "        -1.81895778e-01, -1.63281470e-01],\n",
       "       [ 8.55709124e-01,  1.66560180e-01,  1.56755870e+00,\n",
       "         8.16207129e-01,  9.07162882e-01,  6.81194883e-02,\n",
       "        -6.89578545e-01,  1.64989312e+00,  9.62675387e-01,\n",
       "        -6.80494667e-03,  1.65921182e+00,  8.14261811e-01,\n",
       "         3.01438669e-01,  1.15551013e+00, -2.32768262e-01,\n",
       "         3.53807032e-01,  6.14819823e-01]])"
      ]
     },
     "execution_count": 78,
     "metadata": {},
     "output_type": "execute_result"
    }
   ],
   "source": [
    "from sklearn.mixture import GaussianMixture\n",
    "\n",
    "gmm = GaussianMixture(n_components=5, random_state=0)\n",
    "gmm.fit(x,y)\n",
    "gmm.means_\n"
   ]
  },
  {
   "cell_type": "code",
   "execution_count": 107,
   "id": "865e4d9a",
   "metadata": {},
   "outputs": [
    {
     "ename": "ValueError",
     "evalue": "Expected the input data X have 17 features, but got 16 features",
     "output_type": "error",
     "traceback": [
      "\u001b[1;31m---------------------------------------------------------------------------\u001b[0m",
      "\u001b[1;31mValueError\u001b[0m                                Traceback (most recent call last)",
      "\u001b[1;32m~\\AppData\\Local\\Temp/ipykernel_68128/3585883218.py\u001b[0m in \u001b[0;36m<module>\u001b[1;34m\u001b[0m\n\u001b[1;32m----> 1\u001b[1;33m \u001b[0mlabels\u001b[0m \u001b[1;33m=\u001b[0m \u001b[0mgmm\u001b[0m\u001b[1;33m.\u001b[0m\u001b[0mpredict_proba\u001b[0m\u001b[1;33m(\u001b[0m\u001b[1;33m[\u001b[0m\u001b[0mtest_file\u001b[0m\u001b[1;33m]\u001b[0m\u001b[1;33m)\u001b[0m\u001b[1;33m\u001b[0m\u001b[1;33m\u001b[0m\u001b[0m\n\u001b[0m",
      "\u001b[1;32m~\\anaconda3\\lib\\site-packages\\sklearn\\mixture\\_base.py\u001b[0m in \u001b[0;36mpredict_proba\u001b[1;34m(self, X)\u001b[0m\n\u001b[0;32m    390\u001b[0m         \"\"\"\n\u001b[0;32m    391\u001b[0m         \u001b[0mcheck_is_fitted\u001b[0m\u001b[1;33m(\u001b[0m\u001b[0mself\u001b[0m\u001b[1;33m)\u001b[0m\u001b[1;33m\u001b[0m\u001b[1;33m\u001b[0m\u001b[0m\n\u001b[1;32m--> 392\u001b[1;33m         \u001b[0mX\u001b[0m \u001b[1;33m=\u001b[0m \u001b[0m_check_X\u001b[0m\u001b[1;33m(\u001b[0m\u001b[0mX\u001b[0m\u001b[1;33m,\u001b[0m \u001b[1;32mNone\u001b[0m\u001b[1;33m,\u001b[0m \u001b[0mself\u001b[0m\u001b[1;33m.\u001b[0m\u001b[0mmeans_\u001b[0m\u001b[1;33m.\u001b[0m\u001b[0mshape\u001b[0m\u001b[1;33m[\u001b[0m\u001b[1;36m1\u001b[0m\u001b[1;33m]\u001b[0m\u001b[1;33m)\u001b[0m\u001b[1;33m\u001b[0m\u001b[1;33m\u001b[0m\u001b[0m\n\u001b[0m\u001b[0;32m    393\u001b[0m         \u001b[0m_\u001b[0m\u001b[1;33m,\u001b[0m \u001b[0mlog_resp\u001b[0m \u001b[1;33m=\u001b[0m \u001b[0mself\u001b[0m\u001b[1;33m.\u001b[0m\u001b[0m_estimate_log_prob_resp\u001b[0m\u001b[1;33m(\u001b[0m\u001b[0mX\u001b[0m\u001b[1;33m)\u001b[0m\u001b[1;33m\u001b[0m\u001b[1;33m\u001b[0m\u001b[0m\n\u001b[0;32m    394\u001b[0m         \u001b[1;32mreturn\u001b[0m \u001b[0mnp\u001b[0m\u001b[1;33m.\u001b[0m\u001b[0mexp\u001b[0m\u001b[1;33m(\u001b[0m\u001b[0mlog_resp\u001b[0m\u001b[1;33m)\u001b[0m\u001b[1;33m\u001b[0m\u001b[1;33m\u001b[0m\u001b[0m\n",
      "\u001b[1;32m~\\anaconda3\\lib\\site-packages\\sklearn\\mixture\\_base.py\u001b[0m in \u001b[0;36m_check_X\u001b[1;34m(X, n_components, n_features, ensure_min_samples)\u001b[0m\n\u001b[0;32m     57\u001b[0m                          % (n_components, X.shape[0]))\n\u001b[0;32m     58\u001b[0m     \u001b[1;32mif\u001b[0m \u001b[0mn_features\u001b[0m \u001b[1;32mis\u001b[0m \u001b[1;32mnot\u001b[0m \u001b[1;32mNone\u001b[0m \u001b[1;32mand\u001b[0m \u001b[0mX\u001b[0m\u001b[1;33m.\u001b[0m\u001b[0mshape\u001b[0m\u001b[1;33m[\u001b[0m\u001b[1;36m1\u001b[0m\u001b[1;33m]\u001b[0m \u001b[1;33m!=\u001b[0m \u001b[0mn_features\u001b[0m\u001b[1;33m:\u001b[0m\u001b[1;33m\u001b[0m\u001b[1;33m\u001b[0m\u001b[0m\n\u001b[1;32m---> 59\u001b[1;33m         raise ValueError(\"Expected the input data X have %d features, \"\n\u001b[0m\u001b[0;32m     60\u001b[0m                          \u001b[1;34m\"but got %d features\"\u001b[0m\u001b[1;33m\u001b[0m\u001b[1;33m\u001b[0m\u001b[0m\n\u001b[0;32m     61\u001b[0m                          % (n_features, X.shape[1]))\n",
      "\u001b[1;31mValueError\u001b[0m: Expected the input data X have 17 features, but got 16 features"
     ]
    }
   ],
   "source": [
    "\n",
    "labels = gmm.predict_proba([test_file])"
   ]
  },
  {
   "cell_type": "code",
   "execution_count": 104,
   "id": "e4534468",
   "metadata": {},
   "outputs": [],
   "source": [
    "import matplotlib.pyplot as plt\n",
    "import seaborn as sns; sns.set()"
   ]
  },
  {
   "cell_type": "code",
   "execution_count": 106,
   "id": "41328977",
   "metadata": {},
   "outputs": [
    {
     "ename": "TypeError",
     "evalue": "'(slice(None, None, None), 0)' is an invalid key",
     "output_type": "error",
     "traceback": [
      "\u001b[1;31m---------------------------------------------------------------------------\u001b[0m",
      "\u001b[1;31mTypeError\u001b[0m                                 Traceback (most recent call last)",
      "\u001b[1;32m~\\AppData\\Local\\Temp/ipykernel_63848/2029955611.py\u001b[0m in \u001b[0;36m<module>\u001b[1;34m\u001b[0m\n\u001b[1;32m----> 1\u001b[1;33m \u001b[0mplt\u001b[0m\u001b[1;33m.\u001b[0m\u001b[0mscatter\u001b[0m\u001b[1;33m(\u001b[0m\u001b[0mX\u001b[0m\u001b[1;33m[\u001b[0m\u001b[1;33m:\u001b[0m\u001b[1;33m,\u001b[0m \u001b[1;36m0\u001b[0m\u001b[1;33m]\u001b[0m\u001b[1;33m,\u001b[0m \u001b[0mX\u001b[0m\u001b[1;33m[\u001b[0m\u001b[1;33m:\u001b[0m\u001b[1;33m,\u001b[0m \u001b[1;36m1\u001b[0m\u001b[1;33m]\u001b[0m\u001b[1;33m,\u001b[0m \u001b[0mc\u001b[0m\u001b[1;33m=\u001b[0m\u001b[0mlabels\u001b[0m\u001b[1;33m,\u001b[0m \u001b[0ms\u001b[0m\u001b[1;33m=\u001b[0m\u001b[1;36m40\u001b[0m\u001b[1;33m,\u001b[0m \u001b[0mcmap\u001b[0m\u001b[1;33m=\u001b[0m\u001b[1;34m'viridis'\u001b[0m\u001b[1;33m)\u001b[0m\u001b[1;33m;\u001b[0m\u001b[1;33m\u001b[0m\u001b[1;33m\u001b[0m\u001b[0m\n\u001b[0m",
      "\u001b[1;32m~\\anaconda3\\lib\\site-packages\\pandas\\core\\frame.py\u001b[0m in \u001b[0;36m__getitem__\u001b[1;34m(self, key)\u001b[0m\n\u001b[0;32m   3456\u001b[0m             \u001b[1;32mif\u001b[0m \u001b[0mself\u001b[0m\u001b[1;33m.\u001b[0m\u001b[0mcolumns\u001b[0m\u001b[1;33m.\u001b[0m\u001b[0mnlevels\u001b[0m \u001b[1;33m>\u001b[0m \u001b[1;36m1\u001b[0m\u001b[1;33m:\u001b[0m\u001b[1;33m\u001b[0m\u001b[1;33m\u001b[0m\u001b[0m\n\u001b[0;32m   3457\u001b[0m                 \u001b[1;32mreturn\u001b[0m \u001b[0mself\u001b[0m\u001b[1;33m.\u001b[0m\u001b[0m_getitem_multilevel\u001b[0m\u001b[1;33m(\u001b[0m\u001b[0mkey\u001b[0m\u001b[1;33m)\u001b[0m\u001b[1;33m\u001b[0m\u001b[1;33m\u001b[0m\u001b[0m\n\u001b[1;32m-> 3458\u001b[1;33m             \u001b[0mindexer\u001b[0m \u001b[1;33m=\u001b[0m \u001b[0mself\u001b[0m\u001b[1;33m.\u001b[0m\u001b[0mcolumns\u001b[0m\u001b[1;33m.\u001b[0m\u001b[0mget_loc\u001b[0m\u001b[1;33m(\u001b[0m\u001b[0mkey\u001b[0m\u001b[1;33m)\u001b[0m\u001b[1;33m\u001b[0m\u001b[1;33m\u001b[0m\u001b[0m\n\u001b[0m\u001b[0;32m   3459\u001b[0m             \u001b[1;32mif\u001b[0m \u001b[0mis_integer\u001b[0m\u001b[1;33m(\u001b[0m\u001b[0mindexer\u001b[0m\u001b[1;33m)\u001b[0m\u001b[1;33m:\u001b[0m\u001b[1;33m\u001b[0m\u001b[1;33m\u001b[0m\u001b[0m\n\u001b[0;32m   3460\u001b[0m                 \u001b[0mindexer\u001b[0m \u001b[1;33m=\u001b[0m \u001b[1;33m[\u001b[0m\u001b[0mindexer\u001b[0m\u001b[1;33m]\u001b[0m\u001b[1;33m\u001b[0m\u001b[1;33m\u001b[0m\u001b[0m\n",
      "\u001b[1;32m~\\anaconda3\\lib\\site-packages\\pandas\\core\\indexes\\base.py\u001b[0m in \u001b[0;36mget_loc\u001b[1;34m(self, key, method, tolerance)\u001b[0m\n\u001b[0;32m   3359\u001b[0m             \u001b[0mcasted_key\u001b[0m \u001b[1;33m=\u001b[0m \u001b[0mself\u001b[0m\u001b[1;33m.\u001b[0m\u001b[0m_maybe_cast_indexer\u001b[0m\u001b[1;33m(\u001b[0m\u001b[0mkey\u001b[0m\u001b[1;33m)\u001b[0m\u001b[1;33m\u001b[0m\u001b[1;33m\u001b[0m\u001b[0m\n\u001b[0;32m   3360\u001b[0m             \u001b[1;32mtry\u001b[0m\u001b[1;33m:\u001b[0m\u001b[1;33m\u001b[0m\u001b[1;33m\u001b[0m\u001b[0m\n\u001b[1;32m-> 3361\u001b[1;33m                 \u001b[1;32mreturn\u001b[0m \u001b[0mself\u001b[0m\u001b[1;33m.\u001b[0m\u001b[0m_engine\u001b[0m\u001b[1;33m.\u001b[0m\u001b[0mget_loc\u001b[0m\u001b[1;33m(\u001b[0m\u001b[0mcasted_key\u001b[0m\u001b[1;33m)\u001b[0m\u001b[1;33m\u001b[0m\u001b[1;33m\u001b[0m\u001b[0m\n\u001b[0m\u001b[0;32m   3362\u001b[0m             \u001b[1;32mexcept\u001b[0m \u001b[0mKeyError\u001b[0m \u001b[1;32mas\u001b[0m \u001b[0merr\u001b[0m\u001b[1;33m:\u001b[0m\u001b[1;33m\u001b[0m\u001b[1;33m\u001b[0m\u001b[0m\n\u001b[0;32m   3363\u001b[0m                 \u001b[1;32mraise\u001b[0m \u001b[0mKeyError\u001b[0m\u001b[1;33m(\u001b[0m\u001b[0mkey\u001b[0m\u001b[1;33m)\u001b[0m \u001b[1;32mfrom\u001b[0m \u001b[0merr\u001b[0m\u001b[1;33m\u001b[0m\u001b[1;33m\u001b[0m\u001b[0m\n",
      "\u001b[1;32m~\\anaconda3\\lib\\site-packages\\pandas\\_libs\\index.pyx\u001b[0m in \u001b[0;36mpandas._libs.index.IndexEngine.get_loc\u001b[1;34m()\u001b[0m\n",
      "\u001b[1;32m~\\anaconda3\\lib\\site-packages\\pandas\\_libs\\index.pyx\u001b[0m in \u001b[0;36mpandas._libs.index.IndexEngine.get_loc\u001b[1;34m()\u001b[0m\n",
      "\u001b[1;31mTypeError\u001b[0m: '(slice(None, None, None), 0)' is an invalid key"
     ]
    }
   ],
   "source": [
    "plt.scatter(X[:, 0], X[:, 1], c=labels, s=40, cmap='viridis');"
   ]
  }
 ],
 "metadata": {
  "kernelspec": {
   "display_name": "Python 3 (ipykernel)",
   "language": "python",
   "name": "python3"
  },
  "language_info": {
   "codemirror_mode": {
    "name": "ipython",
    "version": 3
   },
   "file_extension": ".py",
   "mimetype": "text/x-python",
   "name": "python",
   "nbconvert_exporter": "python",
   "pygments_lexer": "ipython3",
   "version": "3.9.7"
  }
 },
 "nbformat": 4,
 "nbformat_minor": 5
}
