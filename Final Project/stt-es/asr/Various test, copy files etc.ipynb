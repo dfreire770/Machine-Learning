{
 "cells": [
  {
   "cell_type": "code",
   "execution_count": 1,
   "id": "39b54744",
   "metadata": {},
   "outputs": [],
   "source": [
    "import pandas as pd\n",
    "import python_speech_features as mfcc\n",
    "from scipy.io import wavfile\n",
    "import os\n",
    "import numpy as np\n",
    "import pandas as pd\n",
    "import librosa\n",
    "from os.path import exists\n",
    "\n",
    "train_csv = pd.read_csv('preprocessed/train.csv')"
   ]
  },
  {
   "cell_type": "code",
   "execution_count": 2,
   "id": "faeffd7f",
   "metadata": {},
   "outputs": [
    {
     "data": {
      "text/plain": [
       "0         Sin esta declaración, la moneda no tendría nin...\n",
       "1         Los dibujos y diseños que acompañan este disco...\n",
       "2         La cucaracha marrón con bandas come una gran c...\n",
       "3                    Los cargos son electivos y periódicos.\n",
       "4         Tras ella, Checoslovaquia alcanzó su independe...\n",
       "                                ...                        \n",
       "129947    Con ocho victorias, Bianchi selló el título a ...\n",
       "129948    Danielle Campbell aparecerá en un papel de inv...\n",
       "129949                                           San Dámaso\n",
       "129950    El nombre refiere a la utilización anterior de...\n",
       "129951    Ella es parte del Equipo paralímpico de los Es...\n",
       "Name: sentence, Length: 129952, dtype: object"
      ]
     },
     "execution_count": 2,
     "metadata": {},
     "output_type": "execute_result"
    }
   ],
   "source": [
    "train_csv['sentence']"
   ]
  },
  {
   "cell_type": "code",
   "execution_count": 3,
   "id": "103bd5a6",
   "metadata": {},
   "outputs": [],
   "source": [
    "files = train_csv['path'][:10000]"
   ]
  },
  {
   "cell_type": "code",
   "execution_count": 4,
   "id": "984a2aad",
   "metadata": {},
   "outputs": [],
   "source": [
    "import os\n",
    "import shutil\n",
    "\n",
    "def copyTrainFiles(files):\n",
    "    source_folder = r\"C:\\Users\\Diego\\Desktop\\stt-es\\asr\\clips\"\n",
    "    destination_folder = r\"C:\\Users\\Diego\\Desktop\\stt-es\\asr\\train_clips\"\n",
    "\n",
    "    for file in files:\n",
    "\n",
    "        source = source_folder + \"\\\\\" + file\n",
    "        destination = destination_folder + \"\\\\\" + file\n",
    "\n",
    "        print(source)\n",
    "\n",
    "        if os.path.isfile(source):\n",
    "            shutil.copy(source, destination)\n",
    "            print('copied', file)"
   ]
  },
  {
   "cell_type": "code",
   "execution_count": 5,
   "id": "781c6c4f",
   "metadata": {
    "scrolled": true
   },
   "outputs": [
    {
     "data": {
      "text/plain": [
       "España             5688\n",
       "México             4193\n",
       "Andino             3174\n",
       "Rioplatense        2146\n",
       "Caribe             1862\n",
       "América central    1769\n",
       "Chileno            1168\n",
       "Name: accents, dtype: int64"
      ]
     },
     "execution_count": 5,
     "metadata": {},
     "output_type": "execute_result"
    }
   ],
   "source": [
    "train_csv['accents'][:20000].value_counts()"
   ]
  },
  {
   "cell_type": "code",
   "execution_count": 43,
   "id": "77fb7ff9",
   "metadata": {},
   "outputs": [
    {
     "data": {
      "text/html": [
       "<div>\n",
       "<style scoped>\n",
       "    .dataframe tbody tr th:only-of-type {\n",
       "        vertical-align: middle;\n",
       "    }\n",
       "\n",
       "    .dataframe tbody tr th {\n",
       "        vertical-align: top;\n",
       "    }\n",
       "\n",
       "    .dataframe thead th {\n",
       "        text-align: right;\n",
       "    }\n",
       "</style>\n",
       "<table border=\"1\" class=\"dataframe\">\n",
       "  <thead>\n",
       "    <tr style=\"text-align: right;\">\n",
       "      <th></th>\n",
       "      <th>Unnamed: 0</th>\n",
       "      <th>client_id</th>\n",
       "      <th>path</th>\n",
       "      <th>sentence</th>\n",
       "      <th>up_votes</th>\n",
       "      <th>down_votes</th>\n",
       "      <th>age</th>\n",
       "      <th>gender</th>\n",
       "      <th>accents</th>\n",
       "      <th>locale</th>\n",
       "      <th>segment</th>\n",
       "    </tr>\n",
       "  </thead>\n",
       "  <tbody>\n",
       "    <tr>\n",
       "      <th>0</th>\n",
       "      <td>16</td>\n",
       "      <td>f73aabd1c1ff1330e393df55743441cc53260df9f92d4e...</td>\n",
       "      <td>common_voice_es_19749308.wav</td>\n",
       "      <td>Sin esta declaración, la moneda no tendría nin...</td>\n",
       "      <td>2</td>\n",
       "      <td>1</td>\n",
       "      <td>twenties</td>\n",
       "      <td>female</td>\n",
       "      <td>México</td>\n",
       "      <td>es</td>\n",
       "      <td>NaN</td>\n",
       "    </tr>\n",
       "    <tr>\n",
       "      <th>1</th>\n",
       "      <td>17</td>\n",
       "      <td>f73aabd1c1ff1330e393df55743441cc53260df9f92d4e...</td>\n",
       "      <td>common_voice_es_19749309.wav</td>\n",
       "      <td>Los dibujos y diseños que acompañan este disco...</td>\n",
       "      <td>2</td>\n",
       "      <td>0</td>\n",
       "      <td>twenties</td>\n",
       "      <td>female</td>\n",
       "      <td>México</td>\n",
       "      <td>es</td>\n",
       "      <td>NaN</td>\n",
       "    </tr>\n",
       "    <tr>\n",
       "      <th>2</th>\n",
       "      <td>18</td>\n",
       "      <td>f73aabd1c1ff1330e393df55743441cc53260df9f92d4e...</td>\n",
       "      <td>common_voice_es_19749310.wav</td>\n",
       "      <td>La cucaracha marrón con bandas come una gran c...</td>\n",
       "      <td>2</td>\n",
       "      <td>0</td>\n",
       "      <td>twenties</td>\n",
       "      <td>female</td>\n",
       "      <td>México</td>\n",
       "      <td>es</td>\n",
       "      <td>NaN</td>\n",
       "    </tr>\n",
       "    <tr>\n",
       "      <th>3</th>\n",
       "      <td>19</td>\n",
       "      <td>f73aabd1c1ff1330e393df55743441cc53260df9f92d4e...</td>\n",
       "      <td>common_voice_es_19749311.wav</td>\n",
       "      <td>Los cargos son electivos y periódicos.</td>\n",
       "      <td>2</td>\n",
       "      <td>0</td>\n",
       "      <td>twenties</td>\n",
       "      <td>female</td>\n",
       "      <td>México</td>\n",
       "      <td>es</td>\n",
       "      <td>NaN</td>\n",
       "    </tr>\n",
       "    <tr>\n",
       "      <th>4</th>\n",
       "      <td>20</td>\n",
       "      <td>f73aabd1c1ff1330e393df55743441cc53260df9f92d4e...</td>\n",
       "      <td>common_voice_es_19749357.wav</td>\n",
       "      <td>Tras ella, Checoslovaquia alcanzó su independe...</td>\n",
       "      <td>2</td>\n",
       "      <td>1</td>\n",
       "      <td>twenties</td>\n",
       "      <td>female</td>\n",
       "      <td>México</td>\n",
       "      <td>es</td>\n",
       "      <td>NaN</td>\n",
       "    </tr>\n",
       "    <tr>\n",
       "      <th>...</th>\n",
       "      <td>...</td>\n",
       "      <td>...</td>\n",
       "      <td>...</td>\n",
       "      <td>...</td>\n",
       "      <td>...</td>\n",
       "      <td>...</td>\n",
       "      <td>...</td>\n",
       "      <td>...</td>\n",
       "      <td>...</td>\n",
       "      <td>...</td>\n",
       "      <td>...</td>\n",
       "    </tr>\n",
       "    <tr>\n",
       "      <th>129947</th>\n",
       "      <td>215740</td>\n",
       "      <td>a97730f86fa90560ae105669364412a9ad393b32839d01...</td>\n",
       "      <td>common_voice_es_25094588.wav</td>\n",
       "      <td>Con ocho victorias, Bianchi selló el título a ...</td>\n",
       "      <td>2</td>\n",
       "      <td>0</td>\n",
       "      <td>sixties</td>\n",
       "      <td>male</td>\n",
       "      <td>España</td>\n",
       "      <td>es</td>\n",
       "      <td>NaN</td>\n",
       "    </tr>\n",
       "    <tr>\n",
       "      <th>129948</th>\n",
       "      <td>215741</td>\n",
       "      <td>a97730f86fa90560ae105669364412a9ad393b32839d01...</td>\n",
       "      <td>common_voice_es_25143392.wav</td>\n",
       "      <td>Danielle Campbell aparecerá en un papel de inv...</td>\n",
       "      <td>2</td>\n",
       "      <td>0</td>\n",
       "      <td>sixties</td>\n",
       "      <td>male</td>\n",
       "      <td>España</td>\n",
       "      <td>es</td>\n",
       "      <td>NaN</td>\n",
       "    </tr>\n",
       "    <tr>\n",
       "      <th>129949</th>\n",
       "      <td>215742</td>\n",
       "      <td>a97730f86fa90560ae105669364412a9ad393b32839d01...</td>\n",
       "      <td>common_voice_es_25325879.wav</td>\n",
       "      <td>San Dámaso</td>\n",
       "      <td>2</td>\n",
       "      <td>0</td>\n",
       "      <td>sixties</td>\n",
       "      <td>male</td>\n",
       "      <td>España</td>\n",
       "      <td>es</td>\n",
       "      <td>NaN</td>\n",
       "    </tr>\n",
       "    <tr>\n",
       "      <th>129950</th>\n",
       "      <td>215743</td>\n",
       "      <td>a97730f86fa90560ae105669364412a9ad393b32839d01...</td>\n",
       "      <td>common_voice_es_25358269.wav</td>\n",
       "      <td>El nombre refiere a la utilización anterior de...</td>\n",
       "      <td>2</td>\n",
       "      <td>0</td>\n",
       "      <td>sixties</td>\n",
       "      <td>male</td>\n",
       "      <td>España</td>\n",
       "      <td>es</td>\n",
       "      <td>NaN</td>\n",
       "    </tr>\n",
       "    <tr>\n",
       "      <th>129951</th>\n",
       "      <td>215744</td>\n",
       "      <td>a97730f86fa90560ae105669364412a9ad393b32839d01...</td>\n",
       "      <td>common_voice_es_25388403.wav</td>\n",
       "      <td>Ella es parte del Equipo paralímpico de los Es...</td>\n",
       "      <td>2</td>\n",
       "      <td>0</td>\n",
       "      <td>sixties</td>\n",
       "      <td>male</td>\n",
       "      <td>España</td>\n",
       "      <td>es</td>\n",
       "      <td>NaN</td>\n",
       "    </tr>\n",
       "  </tbody>\n",
       "</table>\n",
       "<p>129952 rows × 11 columns</p>\n",
       "</div>"
      ],
      "text/plain": [
       "        Unnamed: 0                                          client_id  \\\n",
       "0               16  f73aabd1c1ff1330e393df55743441cc53260df9f92d4e...   \n",
       "1               17  f73aabd1c1ff1330e393df55743441cc53260df9f92d4e...   \n",
       "2               18  f73aabd1c1ff1330e393df55743441cc53260df9f92d4e...   \n",
       "3               19  f73aabd1c1ff1330e393df55743441cc53260df9f92d4e...   \n",
       "4               20  f73aabd1c1ff1330e393df55743441cc53260df9f92d4e...   \n",
       "...            ...                                                ...   \n",
       "129947      215740  a97730f86fa90560ae105669364412a9ad393b32839d01...   \n",
       "129948      215741  a97730f86fa90560ae105669364412a9ad393b32839d01...   \n",
       "129949      215742  a97730f86fa90560ae105669364412a9ad393b32839d01...   \n",
       "129950      215743  a97730f86fa90560ae105669364412a9ad393b32839d01...   \n",
       "129951      215744  a97730f86fa90560ae105669364412a9ad393b32839d01...   \n",
       "\n",
       "                                path  \\\n",
       "0       common_voice_es_19749308.wav   \n",
       "1       common_voice_es_19749309.wav   \n",
       "2       common_voice_es_19749310.wav   \n",
       "3       common_voice_es_19749311.wav   \n",
       "4       common_voice_es_19749357.wav   \n",
       "...                              ...   \n",
       "129947  common_voice_es_25094588.wav   \n",
       "129948  common_voice_es_25143392.wav   \n",
       "129949  common_voice_es_25325879.wav   \n",
       "129950  common_voice_es_25358269.wav   \n",
       "129951  common_voice_es_25388403.wav   \n",
       "\n",
       "                                                 sentence  up_votes  \\\n",
       "0       Sin esta declaración, la moneda no tendría nin...         2   \n",
       "1       Los dibujos y diseños que acompañan este disco...         2   \n",
       "2       La cucaracha marrón con bandas come una gran c...         2   \n",
       "3                  Los cargos son electivos y periódicos.         2   \n",
       "4       Tras ella, Checoslovaquia alcanzó su independe...         2   \n",
       "...                                                   ...       ...   \n",
       "129947  Con ocho victorias, Bianchi selló el título a ...         2   \n",
       "129948  Danielle Campbell aparecerá en un papel de inv...         2   \n",
       "129949                                         San Dámaso         2   \n",
       "129950  El nombre refiere a la utilización anterior de...         2   \n",
       "129951  Ella es parte del Equipo paralímpico de los Es...         2   \n",
       "\n",
       "        down_votes       age  gender accents locale  segment  \n",
       "0                1  twenties  female  México     es      NaN  \n",
       "1                0  twenties  female  México     es      NaN  \n",
       "2                0  twenties  female  México     es      NaN  \n",
       "3                0  twenties  female  México     es      NaN  \n",
       "4                1  twenties  female  México     es      NaN  \n",
       "...            ...       ...     ...     ...    ...      ...  \n",
       "129947           0   sixties    male  España     es      NaN  \n",
       "129948           0   sixties    male  España     es      NaN  \n",
       "129949           0   sixties    male  España     es      NaN  \n",
       "129950           0   sixties    male  España     es      NaN  \n",
       "129951           0   sixties    male  España     es      NaN  \n",
       "\n",
       "[129952 rows x 11 columns]"
      ]
     },
     "execution_count": 43,
     "metadata": {},
     "output_type": "execute_result"
    }
   ],
   "source": [
    "train_csv"
   ]
  },
  {
   "cell_type": "code",
   "execution_count": 6,
   "id": "1bd764f1",
   "metadata": {},
   "outputs": [],
   "source": [
    "x_train = train_csv[:20000]"
   ]
  },
  {
   "cell_type": "code",
   "execution_count": 7,
   "id": "61fd2298",
   "metadata": {},
   "outputs": [],
   "source": [
    "espana = x_train[x_train['accents']=='España']\n",
    "mexico = x_train[x_train['accents']=='México']\n",
    "\n",
    "x_train = pd.concat([espana,mexico])"
   ]
  },
  {
   "cell_type": "code",
   "execution_count": 8,
   "id": "87c0e2c1",
   "metadata": {},
   "outputs": [
    {
     "data": {
      "text/plain": [
       "España    5688\n",
       "México    4193\n",
       "Name: accents, dtype: int64"
      ]
     },
     "execution_count": 8,
     "metadata": {},
     "output_type": "execute_result"
    }
   ],
   "source": [
    "x_train['accents'].value_counts()"
   ]
  },
  {
   "cell_type": "code",
   "execution_count": 9,
   "id": "ba19d887",
   "metadata": {},
   "outputs": [
    {
     "name": "stdout",
     "output_type": "stream",
     "text": [
      "features:  ['México', 2308.2947933508694, 1974.1844882438925, 4629.628258293839, -494.77393, 58.007782, -12.609498, 4.0877666, 5.2569146, -0.3378335, 9.516813, -1.3414289, -2.8885732, 4.024781, -4.650512, -2.1086526, 2.949276, -2.73439, -1.9973722, -1.9965124, -1.5547327, 3.239418, -0.24454787, -2.8529255]\n"
     ]
    }
   ],
   "source": [
    "ds_path = \"./clips/\"\n",
    "\n",
    "#this function is used to extract audio frequency features\n",
    "def feature_extraction(filename, sampling_rate=48000, mfcc_num=20):\n",
    "    path = \"{}{}\".format(ds_path, filename)\n",
    "    features = list()\n",
    "    audio, _ = librosa.load(path, sr=sampling_rate)\n",
    "    \n",
    "    accents = train_csv[train_csv['path'] == filename].accents.values[0]\n",
    "    spectral_centroid = np.mean(librosa.feature.spectral_centroid(y=audio, sr=sampling_rate))\n",
    "    spectral_bandwidth = np.mean(librosa.feature.spectral_bandwidth(y=audio, sr=sampling_rate))\n",
    "    spectral_rolloff = np.mean(librosa.feature.spectral_rolloff(y=audio, sr=sampling_rate))\n",
    "    features.append(accents)\n",
    "    features.append(spectral_centroid)\n",
    "    features.append(spectral_bandwidth)\n",
    "    features.append(spectral_rolloff)\n",
    "    \n",
    "    # Extract mfcc features. First experiment\n",
    "    \n",
    "    mfcc = librosa.feature.mfcc(y=audio, sr=sampling_rate, n_mfcc=mfcc_num) # it returns 20 by default.\n",
    "    for el in mfcc:\n",
    "        features.append(np.mean(el))\n",
    "    \n",
    "    return features\n",
    "    \n",
    "        \n",
    "features = feature_extraction(train_csv['path'][16])\n",
    "print(\"features: \", features)\n"
   ]
  },
  {
   "cell_type": "code",
   "execution_count": 63,
   "id": "ac0f15aa",
   "metadata": {},
   "outputs": [
    {
     "name": "stdout",
     "output_type": "stream",
     "text": [
      "9880/9880"
     ]
    }
   ],
   "source": [
    "def create_df_features(orig, n_mfcc =20):\n",
    "    new_rows = list()\n",
    "    tot_rows = len(orig)-1\n",
    "    stop_counter = len(orig)\n",
    "    counter = 0\n",
    "    \n",
    "    missing_files = []\n",
    "        \n",
    "    for idx, row in orig.iterrows():\n",
    "        \n",
    "        if counter == stop_counter:\n",
    "            break\n",
    "        \n",
    "        print(\"\\r\", end=\"\")\n",
    "        \n",
    "        print(\"{}/{}\".format(counter, tot_rows), end=\"\", flush=True)\n",
    "        \n",
    "        filename = row['path']\n",
    "        \n",
    "        # check if the file exists\n",
    "        \n",
    "        if exists(\"./clips/\" + str(filename)):\n",
    "\n",
    "            features = feature_extraction(filename, mfcc_num=n_mfcc)\n",
    "\n",
    "            new_rows.append(features)\n",
    "            \n",
    "        else:\n",
    "            missing_files.append(filename)\n",
    "            \n",
    "        \n",
    "        counter=counter + 1\n",
    "    \n",
    "    column_names = [\"accent\", \"spectral_centroid\", \"spectral_bandwidth\", \"spectral_rolloff\"]\n",
    "    \n",
    "    for n in range(n_mfcc):\n",
    "        mfcc_column = \"mfcc\"+ str(n+1)\n",
    "        column_names.append(mfcc_column)\n",
    "        \n",
    "    result = pd.DataFrame(new_rows, columns=column_names)\n",
    "    \n",
    "    return result,missing_files\n",
    "\n",
    "\n",
    "# test the feature extraction function with only 10 files\n",
    "\n",
    "data = x_train\n",
    "\n",
    "# this file was missing and crashed the process\n",
    "#data = train_csv[train_csv['path']=='common_voice_es_30936612.wav']\n",
    "\n",
    "#df_features, missing_files = create_df_features(data,13)\n",
    "### It works, but it will take time to run. Reduce size of data"
   ]
  },
  {
   "cell_type": "code",
   "execution_count": 183,
   "id": "4ea319ed",
   "metadata": {},
   "outputs": [],
   "source": [
    "df_features = pd.read_csv('./mfcc_es_mx.csv')"
   ]
  },
  {
   "cell_type": "code",
   "execution_count": 184,
   "id": "b298a54d",
   "metadata": {},
   "outputs": [],
   "source": [
    "df_features = df_features.drop(['Unnamed: 0'],axis=1)"
   ]
  },
  {
   "cell_type": "code",
   "execution_count": 49,
   "id": "56ca3907",
   "metadata": {},
   "outputs": [
    {
     "name": "stdout",
     "output_type": "stream",
     "text": [
      "Before encoding: España\n",
      "\n",
      "After encoding: 0\n",
      "\n",
      "Classes: ['España' 'México']\n"
     ]
    }
   ],
   "source": [
    "from sklearn.preprocessing import LabelEncoder\n",
    "\n",
    "def get_labels(data):\n",
    "    labels = data.iloc[:, 0]\n",
    "    encoder = LabelEncoder()\n",
    "    labels = encoder.fit_transform(labels)\n",
    "    return labels, encoder\n",
    "\n",
    "y, encoder = get_labels(df_features)\n",
    "classes = encoder.classes_\n",
    "print(\"Before encoding:\", df_features.iloc[0].values[0])\n",
    "print(\"\\nAfter encoding:\", y[0])\n",
    "print(\"\\nClasses:\", classes)"
   ]
  },
  {
   "cell_type": "code",
   "execution_count": 50,
   "id": "b1481d42",
   "metadata": {},
   "outputs": [],
   "source": [
    "from sklearn.preprocessing import StandardScaler\n",
    "\n",
    "def scale_features(data):\n",
    "    scaler = StandardScaler()\n",
    "    scaled_data = scaler.fit_transform(np.array(data.iloc[:, 1:], dtype = float))\n",
    "    # with data.iloc[:, 0:-1] we don't consider the label column\n",
    "        \n",
    "    return scaled_data, scaler\n",
    "\n",
    "x, scaler = scale_features(df_features)"
   ]
  },
  {
   "cell_type": "code",
   "execution_count": 170,
   "id": "6a245220",
   "metadata": {},
   "outputs": [
    {
     "data": {
      "text/plain": [
       "SVC(C=100, probability=True)"
      ]
     },
     "execution_count": 170,
     "metadata": {},
     "output_type": "execute_result"
    }
   ],
   "source": [
    "from sklearn import svm\n",
    "\n",
    "clf = svm.SVC(C=100, gamma='scale', probability = True)\n",
    "clf.fit(x, y)"
   ]
  },
  {
   "cell_type": "code",
   "execution_count": 175,
   "id": "ad5f55a0",
   "metadata": {},
   "outputs": [],
   "source": [
    "def plot_confusion_matrix(cm, classes, normalize=False):\n",
    "    if normalize:\n",
    "        cm = cm.astype('float') / cm.sum(axis=1)[:, np.newaxis]\n",
    "        title = \"Normalized Confusion Matrix\"\n",
    "    else:\n",
    "        title = \"Confusion Matrix (without normalization)\"\n",
    "    \n",
    "    plt.imshow(cm, interpolation='nearest', cmap=plt.cm.Blues)\n",
    "    plt.colorbar()\n",
    "    tick_marks = np.arange(len(classes))\n",
    "    plt.xticks(tick_marks, classes, rotation=45)\n",
    "    plt.yticks(tick_marks, classes)\n",
    "    plt.title(title)\n",
    "\n",
    "    thresh = cm.max() / 2.\n",
    "    fmt = \"{:0.2f}\" if normalize else \"{:d}\"\n",
    "    for i, j in itertools.product(range(cm.shape[0]), range(cm.shape[1])):\n",
    "        plt.text(j, i, fmt.format(cm[i, j]),\n",
    "                 horizontalalignment=\"center\",\n",
    "                 color=\"white\" if cm[i, j] > thresh else \"black\")\n",
    "\n",
    "    plt.tight_layout()\n",
    "    plt.ylabel('True label')\n",
    "    plt.xlabel('Predicted label')"
   ]
  },
  {
   "cell_type": "code",
   "execution_count": 171,
   "id": "e0eb8dd5",
   "metadata": {},
   "outputs": [
    {
     "data": {
      "text/plain": [
       "Unnamed: 0                                                46281\n",
       "client_id     be8611f7ef3512aad172a40920d62ccb116cca0e31eeed...\n",
       "path                               common_voice_es_21979847.wav\n",
       "sentence      Le acompañaron en el podio Carlos Barbero y Je...\n",
       "up_votes                                                      2\n",
       "down_votes                                                    1\n",
       "age                                                    twenties\n",
       "gender                                                   female\n",
       "accents                                                  México\n",
       "locale                                                       es\n",
       "segment                                                     NaN\n",
       "Name: 19802, dtype: object"
      ]
     },
     "execution_count": 171,
     "metadata": {},
     "output_type": "execute_result"
    }
   ],
   "source": [
    "train_csv.iloc[19802]"
   ]
  },
  {
   "cell_type": "code",
   "execution_count": 172,
   "id": "e0a0d1a3",
   "metadata": {},
   "outputs": [
    {
     "name": "stdout",
     "output_type": "stream",
     "text": [
      "features:  ['México', 803.271364504542, 1052.419904934252, 1355.1453849337747, -413.2601, 133.18007, 32.108383, 13.177162, 15.628123, 2.7738242, -1.7067066, -3.44792, -6.4243393, -6.2456803, -5.950353, -2.947172, -1.3192308]\n"
     ]
    }
   ],
   "source": [
    "features = feature_extraction(train_csv['path'][19802],mfcc_num=13)\n",
    "print(\"features: \", features)"
   ]
  },
  {
   "cell_type": "code",
   "execution_count": 176,
   "id": "3eaff156",
   "metadata": {},
   "outputs": [],
   "source": [
    "x_test = features[1:]\n",
    "#Classes: ['España' 'México']\n",
    "y_pred = clf.predict_proba([x_test])"
   ]
  },
  {
   "cell_type": "code",
   "execution_count": 169,
   "id": "f34e2e4c",
   "metadata": {},
   "outputs": [],
   "source": [
    "#from sklearn.metrics import confusion_matrix"
   ]
  },
  {
   "cell_type": "code",
   "execution_count": 182,
   "id": "1d5fdf69",
   "metadata": {},
   "outputs": [
    {
     "ename": "ValueError",
     "evalue": "Found input variables with inconsistent numbers of samples: [17, 1]",
     "output_type": "error",
     "traceback": [
      "\u001b[1;31m---------------------------------------------------------------------------\u001b[0m",
      "\u001b[1;31mValueError\u001b[0m                                Traceback (most recent call last)",
      "\u001b[1;32m~\\AppData\\Local\\Temp/ipykernel_11220/1897709216.py\u001b[0m in \u001b[0;36m<module>\u001b[1;34m\u001b[0m\n\u001b[1;32m----> 1\u001b[1;33m \u001b[0mcm\u001b[0m \u001b[1;33m=\u001b[0m \u001b[0mconfusion_matrix\u001b[0m\u001b[1;33m(\u001b[0m\u001b[0mfeatures\u001b[0m\u001b[1;33m,\u001b[0m \u001b[0my_pred\u001b[0m\u001b[1;33m)\u001b[0m\u001b[1;33m\u001b[0m\u001b[1;33m\u001b[0m\u001b[0m\n\u001b[0m\u001b[0;32m      2\u001b[0m \u001b[1;33m\u001b[0m\u001b[0m\n\u001b[0;32m      3\u001b[0m \u001b[0mplt\u001b[0m\u001b[1;33m.\u001b[0m\u001b[0mfigure\u001b[0m\u001b[1;33m(\u001b[0m\u001b[1;33m)\u001b[0m\u001b[1;33m\u001b[0m\u001b[1;33m\u001b[0m\u001b[0m\n\u001b[0;32m      4\u001b[0m \u001b[0mplot_confusion_matrix\u001b[0m\u001b[1;33m(\u001b[0m\u001b[0mcm\u001b[0m\u001b[1;33m,\u001b[0m \u001b[0mclasses\u001b[0m\u001b[1;33m=\u001b[0m\u001b[0mclasses\u001b[0m\u001b[1;33m)\u001b[0m\u001b[1;33m\u001b[0m\u001b[1;33m\u001b[0m\u001b[0m\n\u001b[0;32m      5\u001b[0m \u001b[1;33m\u001b[0m\u001b[0m\n",
      "\u001b[1;32m~\\anaconda3\\lib\\site-packages\\sklearn\\utils\\validation.py\u001b[0m in \u001b[0;36minner_f\u001b[1;34m(*args, **kwargs)\u001b[0m\n\u001b[0;32m     61\u001b[0m             \u001b[0mextra_args\u001b[0m \u001b[1;33m=\u001b[0m \u001b[0mlen\u001b[0m\u001b[1;33m(\u001b[0m\u001b[0margs\u001b[0m\u001b[1;33m)\u001b[0m \u001b[1;33m-\u001b[0m \u001b[0mlen\u001b[0m\u001b[1;33m(\u001b[0m\u001b[0mall_args\u001b[0m\u001b[1;33m)\u001b[0m\u001b[1;33m\u001b[0m\u001b[1;33m\u001b[0m\u001b[0m\n\u001b[0;32m     62\u001b[0m             \u001b[1;32mif\u001b[0m \u001b[0mextra_args\u001b[0m \u001b[1;33m<=\u001b[0m \u001b[1;36m0\u001b[0m\u001b[1;33m:\u001b[0m\u001b[1;33m\u001b[0m\u001b[1;33m\u001b[0m\u001b[0m\n\u001b[1;32m---> 63\u001b[1;33m                 \u001b[1;32mreturn\u001b[0m \u001b[0mf\u001b[0m\u001b[1;33m(\u001b[0m\u001b[1;33m*\u001b[0m\u001b[0margs\u001b[0m\u001b[1;33m,\u001b[0m \u001b[1;33m**\u001b[0m\u001b[0mkwargs\u001b[0m\u001b[1;33m)\u001b[0m\u001b[1;33m\u001b[0m\u001b[1;33m\u001b[0m\u001b[0m\n\u001b[0m\u001b[0;32m     64\u001b[0m \u001b[1;33m\u001b[0m\u001b[0m\n\u001b[0;32m     65\u001b[0m             \u001b[1;31m# extra_args > 0\u001b[0m\u001b[1;33m\u001b[0m\u001b[1;33m\u001b[0m\u001b[0m\n",
      "\u001b[1;32m~\\anaconda3\\lib\\site-packages\\sklearn\\metrics\\_classification.py\u001b[0m in \u001b[0;36mconfusion_matrix\u001b[1;34m(y_true, y_pred, labels, sample_weight, normalize)\u001b[0m\n\u001b[0;32m    297\u001b[0m \u001b[1;33m\u001b[0m\u001b[0m\n\u001b[0;32m    298\u001b[0m     \"\"\"\n\u001b[1;32m--> 299\u001b[1;33m     \u001b[0my_type\u001b[0m\u001b[1;33m,\u001b[0m \u001b[0my_true\u001b[0m\u001b[1;33m,\u001b[0m \u001b[0my_pred\u001b[0m \u001b[1;33m=\u001b[0m \u001b[0m_check_targets\u001b[0m\u001b[1;33m(\u001b[0m\u001b[0my_true\u001b[0m\u001b[1;33m,\u001b[0m \u001b[0my_pred\u001b[0m\u001b[1;33m)\u001b[0m\u001b[1;33m\u001b[0m\u001b[1;33m\u001b[0m\u001b[0m\n\u001b[0m\u001b[0;32m    300\u001b[0m     \u001b[1;32mif\u001b[0m \u001b[0my_type\u001b[0m \u001b[1;32mnot\u001b[0m \u001b[1;32min\u001b[0m \u001b[1;33m(\u001b[0m\u001b[1;34m\"binary\"\u001b[0m\u001b[1;33m,\u001b[0m \u001b[1;34m\"multiclass\"\u001b[0m\u001b[1;33m)\u001b[0m\u001b[1;33m:\u001b[0m\u001b[1;33m\u001b[0m\u001b[1;33m\u001b[0m\u001b[0m\n\u001b[0;32m    301\u001b[0m         \u001b[1;32mraise\u001b[0m \u001b[0mValueError\u001b[0m\u001b[1;33m(\u001b[0m\u001b[1;34m\"%s is not supported\"\u001b[0m \u001b[1;33m%\u001b[0m \u001b[0my_type\u001b[0m\u001b[1;33m)\u001b[0m\u001b[1;33m\u001b[0m\u001b[1;33m\u001b[0m\u001b[0m\n",
      "\u001b[1;32m~\\anaconda3\\lib\\site-packages\\sklearn\\metrics\\_classification.py\u001b[0m in \u001b[0;36m_check_targets\u001b[1;34m(y_true, y_pred)\u001b[0m\n\u001b[0;32m     81\u001b[0m     \u001b[0my_pred\u001b[0m \u001b[1;33m:\u001b[0m \u001b[0marray\u001b[0m \u001b[1;32mor\u001b[0m \u001b[0mindicator\u001b[0m \u001b[0mmatrix\u001b[0m\u001b[1;33m\u001b[0m\u001b[1;33m\u001b[0m\u001b[0m\n\u001b[0;32m     82\u001b[0m     \"\"\"\n\u001b[1;32m---> 83\u001b[1;33m     \u001b[0mcheck_consistent_length\u001b[0m\u001b[1;33m(\u001b[0m\u001b[0my_true\u001b[0m\u001b[1;33m,\u001b[0m \u001b[0my_pred\u001b[0m\u001b[1;33m)\u001b[0m\u001b[1;33m\u001b[0m\u001b[1;33m\u001b[0m\u001b[0m\n\u001b[0m\u001b[0;32m     84\u001b[0m     \u001b[0mtype_true\u001b[0m \u001b[1;33m=\u001b[0m \u001b[0mtype_of_target\u001b[0m\u001b[1;33m(\u001b[0m\u001b[0my_true\u001b[0m\u001b[1;33m)\u001b[0m\u001b[1;33m\u001b[0m\u001b[1;33m\u001b[0m\u001b[0m\n\u001b[0;32m     85\u001b[0m     \u001b[0mtype_pred\u001b[0m \u001b[1;33m=\u001b[0m \u001b[0mtype_of_target\u001b[0m\u001b[1;33m(\u001b[0m\u001b[0my_pred\u001b[0m\u001b[1;33m)\u001b[0m\u001b[1;33m\u001b[0m\u001b[1;33m\u001b[0m\u001b[0m\n",
      "\u001b[1;32m~\\anaconda3\\lib\\site-packages\\sklearn\\utils\\validation.py\u001b[0m in \u001b[0;36mcheck_consistent_length\u001b[1;34m(*arrays)\u001b[0m\n\u001b[0;32m    317\u001b[0m     \u001b[0muniques\u001b[0m \u001b[1;33m=\u001b[0m \u001b[0mnp\u001b[0m\u001b[1;33m.\u001b[0m\u001b[0munique\u001b[0m\u001b[1;33m(\u001b[0m\u001b[0mlengths\u001b[0m\u001b[1;33m)\u001b[0m\u001b[1;33m\u001b[0m\u001b[1;33m\u001b[0m\u001b[0m\n\u001b[0;32m    318\u001b[0m     \u001b[1;32mif\u001b[0m \u001b[0mlen\u001b[0m\u001b[1;33m(\u001b[0m\u001b[0muniques\u001b[0m\u001b[1;33m)\u001b[0m \u001b[1;33m>\u001b[0m \u001b[1;36m1\u001b[0m\u001b[1;33m:\u001b[0m\u001b[1;33m\u001b[0m\u001b[1;33m\u001b[0m\u001b[0m\n\u001b[1;32m--> 319\u001b[1;33m         raise ValueError(\"Found input variables with inconsistent numbers of\"\n\u001b[0m\u001b[0;32m    320\u001b[0m                          \" samples: %r\" % [int(l) for l in lengths])\n\u001b[0;32m    321\u001b[0m \u001b[1;33m\u001b[0m\u001b[0m\n",
      "\u001b[1;31mValueError\u001b[0m: Found input variables with inconsistent numbers of samples: [17, 1]"
     ]
    }
   ],
   "source": [
    "cm = confusion_matrix(features, y_pred)\n",
    "\n",
    "plt.figure()\n",
    "plot_confusion_matrix(cm, classes=classes)\n",
    "\n",
    "plt.grid(False)\n",
    "plt.show()"
   ]
  },
  {
   "cell_type": "code",
   "execution_count": 83,
   "id": "af14d5a6",
   "metadata": {},
   "outputs": [
    {
     "data": {
      "text/plain": [
       "array([[-0.36352107, -0.94745238, -0.52395264, -0.09490706,  0.04703249,\n",
       "        -0.03074402, -0.56963886, -0.0094321 , -0.17800018, -0.62766502,\n",
       "        -0.03275288, -0.26973778, -0.44998448,  0.07141271, -0.60018542,\n",
       "        -0.36970464],\n",
       "       [ 0.09472828,  0.24689224,  0.1365344 ,  0.02473139, -0.01225598,\n",
       "         0.00801144,  0.14843956,  0.00245787,  0.04638424,  0.16356033,\n",
       "         0.00853492,  0.07028972,  0.11725938, -0.01860911,  0.15639955,\n",
       "         0.09633962]])"
      ]
     },
     "execution_count": 83,
     "metadata": {},
     "output_type": "execute_result"
    }
   ],
   "source": [
    "from sklearn.mixture import GaussianMixture\n",
    "\n",
    "gmm = GaussianMixture(n_components=2, random_state=1)\n",
    "gmm.fit(x,y)\n",
    "gmm.means_"
   ]
  },
  {
   "cell_type": "code",
   "execution_count": 97,
   "id": "24e1f2bd",
   "metadata": {},
   "outputs": [
    {
     "data": {
      "text/plain": [
       "array([1], dtype=int64)"
      ]
     },
     "execution_count": 97,
     "metadata": {},
     "output_type": "execute_result"
    }
   ],
   "source": [
    "# ['España' 'México']\n",
    "gmm.predict([x_test])"
   ]
  },
  {
   "cell_type": "code",
   "execution_count": 104,
   "id": "7e5d282b",
   "metadata": {},
   "outputs": [
    {
     "data": {
      "image/png": "[encoded data removed]",
      "text/plain": [
       "<Figure size 1080x360 with 1 Axes>"
      ]
     },
     "metadata": {},
     "output_type": "display_data"
    }
   ],
   "source": [
    "import matplotlib.pyplot as plt # visualizing data\n",
    "import seaborn as sns # visualizing data with stunning default theme\n",
    "\n",
    "\n",
    "sns.set(rc={'figure.figsize':(15, 5)})\n",
    "sns.countplot(x=\"accent\", \n",
    "        data=df_features[df_features['accent'].notna()])\n",
    "\n",
    "plt.show()"
   ]
  }
 ],
 "metadata": {
  "kernelspec": {
   "display_name": "Python 3 (ipykernel)",
   "language": "python",
   "name": "python3"
  },
  "language_info": {
   "codemirror_mode": {
    "name": "ipython",
    "version": 3
   },
   "file_extension": ".py",
   "mimetype": "text/x-python",
   "name": "python",
   "nbconvert_exporter": "python",
   "pygments_lexer": "ipython3",
   "version": "3.9.7"
  }
 },
 "nbformat": 4,
 "nbformat_minor": 5
}
