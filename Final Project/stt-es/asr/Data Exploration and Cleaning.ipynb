{
 "cells": [
  {
   "cell_type": "markdown",
   "id": "6d133e76",
   "metadata": {},
   "source": [
    "### Imports"
   ]
  },
  {
   "cell_type": "code",
   "execution_count": 92,
   "id": "09bab9d2",
   "metadata": {},
   "outputs": [],
   "source": [
    "import python_speech_features as mfcc\n",
    "from scipy.io import wavfile\n",
    "import os\n",
    "from scipy.io import wavfile\n",
    "import numpy as np\n",
    "import pandas as pd\n",
    "import librosa"
   ]
  },
  {
   "cell_type": "markdown",
   "id": "d2d4fd3d",
   "metadata": {},
   "source": [
    "### Convert files"
   ]
  },
  {
   "cell_type": "code",
   "execution_count": 93,
   "id": "6cc21206",
   "metadata": {},
   "outputs": [],
   "source": [
    "# Convert TSV files to CSV\n",
    "# the tsv files are located in the common_voice_data folder\n",
    "# the csv files will be generated in the folder common_voice_data_csv\n",
    "\n",
    "def filesToCSV(files,files_output):\n",
    "    for i in range(len(files)):\n",
    "\n",
    "        tsv_file='./common_voice_data/'+files[i]\n",
    "\n",
    "        # readinag given tsv file\n",
    "        csv_table=pd.read_table(tsv_file,sep='\\t')\n",
    "\n",
    "        csv_file = './common_voice_data_csv/'+files_output[i]\n",
    "        # converting tsv file into csv\n",
    "        csv_table.to_csv(csv_file,index=False)\n",
    "\n",
    "#files = ['train.tsv','test.tsv']\n",
    "\n",
    "#files_output = ['train.csv','test.csv']\n",
    "\n",
    "files = ['validated.tsv']\n",
    "\n",
    "files_output = ['validated.csv']\n",
    "\n",
    "\n",
    "# the files were converted already, so there is no need to run this code again\n",
    "\n",
    "filesToCSV(files,files_output)"
   ]
  },
  {
   "cell_type": "markdown",
   "id": "1dbbdf82",
   "metadata": {},
   "source": [
    "### Data Exploration"
   ]
  },
  {
   "cell_type": "code",
   "execution_count": 94,
   "id": "bdca1388",
   "metadata": {},
   "outputs": [],
   "source": [
    "train_csv = pd.read_csv('common_voice_data_csv/train.csv')"
   ]
  },
  {
   "cell_type": "code",
   "execution_count": 95,
   "id": "772bcf0a",
   "metadata": {},
   "outputs": [
    {
     "data": {
      "text/html": [
       "<div>\n",
       "<style scoped>\n",
       "    .dataframe tbody tr th:only-of-type {\n",
       "        vertical-align: middle;\n",
       "    }\n",
       "\n",
       "    .dataframe tbody tr th {\n",
       "        vertical-align: top;\n",
       "    }\n",
       "\n",
       "    .dataframe thead th {\n",
       "        text-align: right;\n",
       "    }\n",
       "</style>\n",
       "<table border=\"1\" class=\"dataframe\">\n",
       "  <thead>\n",
       "    <tr style=\"text-align: right;\">\n",
       "      <th></th>\n",
       "      <th>client_id</th>\n",
       "      <th>path</th>\n",
       "      <th>sentence</th>\n",
       "      <th>up_votes</th>\n",
       "      <th>down_votes</th>\n",
       "      <th>age</th>\n",
       "      <th>gender</th>\n",
       "      <th>accents</th>\n",
       "      <th>locale</th>\n",
       "      <th>segment</th>\n",
       "    </tr>\n",
       "  </thead>\n",
       "  <tbody>\n",
       "    <tr>\n",
       "      <th>0</th>\n",
       "      <td>f23940e35b2272c5a5e2db75af1a2178fe1b01cba368c0...</td>\n",
       "      <td>common_voice_es_22796275.mp3</td>\n",
       "      <td>Es un edificio barroco de tamaño medio y de pl...</td>\n",
       "      <td>2</td>\n",
       "      <td>0</td>\n",
       "      <td>NaN</td>\n",
       "      <td>NaN</td>\n",
       "      <td>NaN</td>\n",
       "      <td>es</td>\n",
       "      <td>NaN</td>\n",
       "    </tr>\n",
       "    <tr>\n",
       "      <th>1</th>\n",
       "      <td>f23940e35b2272c5a5e2db75af1a2178fe1b01cba368c0...</td>\n",
       "      <td>common_voice_es_22796277.mp3</td>\n",
       "      <td>Ciclismo de pista.</td>\n",
       "      <td>2</td>\n",
       "      <td>0</td>\n",
       "      <td>NaN</td>\n",
       "      <td>NaN</td>\n",
       "      <td>NaN</td>\n",
       "      <td>es</td>\n",
       "      <td>NaN</td>\n",
       "    </tr>\n",
       "    <tr>\n",
       "      <th>2</th>\n",
       "      <td>f23940e35b2272c5a5e2db75af1a2178fe1b01cba368c0...</td>\n",
       "      <td>common_voice_es_22796279.mp3</td>\n",
       "      <td>Tratándose en este caso de dos cantantes mascu...</td>\n",
       "      <td>2</td>\n",
       "      <td>0</td>\n",
       "      <td>NaN</td>\n",
       "      <td>NaN</td>\n",
       "      <td>NaN</td>\n",
       "      <td>es</td>\n",
       "      <td>NaN</td>\n",
       "    </tr>\n",
       "    <tr>\n",
       "      <th>3</th>\n",
       "      <td>f23940e35b2272c5a5e2db75af1a2178fe1b01cba368c0...</td>\n",
       "      <td>common_voice_es_22796292.mp3</td>\n",
       "      <td>Durante los meses siguientes se conocen más da...</td>\n",
       "      <td>2</td>\n",
       "      <td>1</td>\n",
       "      <td>NaN</td>\n",
       "      <td>NaN</td>\n",
       "      <td>NaN</td>\n",
       "      <td>es</td>\n",
       "      <td>NaN</td>\n",
       "    </tr>\n",
       "    <tr>\n",
       "      <th>4</th>\n",
       "      <td>f23940e35b2272c5a5e2db75af1a2178fe1b01cba368c0...</td>\n",
       "      <td>common_voice_es_22796293.mp3</td>\n",
       "      <td>En la actualidad se encarga de los vuelos priv...</td>\n",
       "      <td>3</td>\n",
       "      <td>0</td>\n",
       "      <td>NaN</td>\n",
       "      <td>NaN</td>\n",
       "      <td>NaN</td>\n",
       "      <td>es</td>\n",
       "      <td>NaN</td>\n",
       "    </tr>\n",
       "  </tbody>\n",
       "</table>\n",
       "</div>"
      ],
      "text/plain": [
       "                                           client_id  \\\n",
       "0  f23940e35b2272c5a5e2db75af1a2178fe1b01cba368c0...   \n",
       "1  f23940e35b2272c5a5e2db75af1a2178fe1b01cba368c0...   \n",
       "2  f23940e35b2272c5a5e2db75af1a2178fe1b01cba368c0...   \n",
       "3  f23940e35b2272c5a5e2db75af1a2178fe1b01cba368c0...   \n",
       "4  f23940e35b2272c5a5e2db75af1a2178fe1b01cba368c0...   \n",
       "\n",
       "                           path  \\\n",
       "0  common_voice_es_22796275.mp3   \n",
       "1  common_voice_es_22796277.mp3   \n",
       "2  common_voice_es_22796279.mp3   \n",
       "3  common_voice_es_22796292.mp3   \n",
       "4  common_voice_es_22796293.mp3   \n",
       "\n",
       "                                            sentence  up_votes  down_votes  \\\n",
       "0  Es un edificio barroco de tamaño medio y de pl...         2           0   \n",
       "1                                 Ciclismo de pista.         2           0   \n",
       "2  Tratándose en este caso de dos cantantes mascu...         2           0   \n",
       "3  Durante los meses siguientes se conocen más da...         2           1   \n",
       "4  En la actualidad se encarga de los vuelos priv...         3           0   \n",
       "\n",
       "   age gender accents locale  segment  \n",
       "0  NaN    NaN     NaN     es      NaN  \n",
       "1  NaN    NaN     NaN     es      NaN  \n",
       "2  NaN    NaN     NaN     es      NaN  \n",
       "3  NaN    NaN     NaN     es      NaN  \n",
       "4  NaN    NaN     NaN     es      NaN  "
      ]
     },
     "execution_count": 95,
     "metadata": {},
     "output_type": "execute_result"
    }
   ],
   "source": [
    "train_csv.head()"
   ]
  },
  {
   "cell_type": "code",
   "execution_count": null,
   "id": "639fa1f9",
   "metadata": {},
   "outputs": [],
   "source": [
    "train_csv['accents'].drop_duplicates()"
   ]
  },
  {
   "cell_type": "code",
   "execution_count": null,
   "id": "28f532e0",
   "metadata": {},
   "outputs": [],
   "source": [
    "train_csv['accents'].value_counts()"
   ]
  },
  {
   "cell_type": "code",
   "execution_count": 96,
   "id": "7e8b55cc",
   "metadata": {},
   "outputs": [],
   "source": [
    "# remove rows where accent has null values\n",
    "train_csv = train_csv[~train_csv['accents'].isnull()]"
   ]
  },
  {
   "cell_type": "code",
   "execution_count": 111,
   "id": "ffa1ed2a",
   "metadata": {},
   "outputs": [],
   "source": [
    "train_csv['path'] = train_csv['path'].str.replace('.mp3','.wav',regex=True)"
   ]
  },
  {
   "cell_type": "code",
   "execution_count": 98,
   "id": "67963a9b",
   "metadata": {},
   "outputs": [],
   "source": [
    "# Replace the accent classes (target value)\n",
    "\"\"\"\n",
    "replacement = {'España: Sur peninsular (Andalucia, Extremadura, Murcia)':'España',\n",
    "              'España: Norte peninsular (Asturias, Castilla y León, Cantabria, País Vasco, Navarra, Aragón, La Rioja, Guadalajara, Cuenca)':'España',\n",
    "              'España: Centro-Sur peninsular (Madrid, Toledo, Castilla-La Mancha)':'España',\n",
    "               'España: Islas Canarias':'España',\n",
    "               'acento de catalanohablante nativo':'España',\n",
    "               'Andino-Pacífico: Colombia, Perú, Ecuador, oeste de Bolivia y Venezuela andina':'Andino',\n",
    "               'Rioplatense: Argentina, Uruguay, este de Bolivia, Paraguay':'Rioplatense',\n",
    "               'Caribe: Cuba, Venezuela, Puerto Rico, República Dominicana, Panamá, Colombia caribeña, México caribeño, Costa del golfo de México':'Caribe',\n",
    "               'Chileno: Chile, Cuyo':'Chileno',\n",
    "               \n",
    "              }\n",
    "\"\"\"\n",
    "\n",
    "\n",
    "train_csv['accents'] = train_csv['accents'].replace(replacement)\n",
    "\n",
    "# Drop the data with the accents we don't need\n",
    "\n",
    "train_csv = train_csv[train_csv.accents != 'Español de Filipinas']\n",
    "\n",
    "train_csv = train_csv[train_csv.accents != 'Espanol aleman']\n",
    "\n",
    "train_csv = train_csv[train_csv.up_votes != 'Espanol aleman']\n",
    "\n",
    "\n"
   ]
  },
  {
   "cell_type": "code",
   "execution_count": null,
   "id": "b6417867",
   "metadata": {},
   "outputs": [],
   "source": [
    "train_csv['accents'].value_counts()"
   ]
  },
  {
   "cell_type": "code",
   "execution_count": null,
   "id": "1c2ba5b8",
   "metadata": {},
   "outputs": [],
   "source": [
    "train_csv.head()"
   ]
  },
  {
   "cell_type": "markdown",
   "id": "81da87d0",
   "metadata": {},
   "source": [
    "According to the Common Voice dataset description\n",
    "\n",
    "Data Splits\n",
    "* The speech material has been subdivided into portions for dev, train, test, validated, invalidated, reported and other.\n",
    "\n",
    "* The validated data is data that has been validated with reviewers and recieved upvotes that the data is of high quality.\n",
    "\n",
    "* The invalidated data is data has been invalidated by reviewers and recieved downvotes that the data is of low quality.\n",
    "\n",
    "* The reported data is data that has been reported, for different reasons.\n",
    "\n",
    "* The other data is data that has not yet been reviewed.\n",
    "\n",
    "* The dev, test, train are all data that has been reviewed, deemed of high quality and split into dev, test and train."
   ]
  },
  {
   "cell_type": "code",
   "execution_count": null,
   "id": "0a2e6722",
   "metadata": {},
   "outputs": [],
   "source": [
    "train_csv['up_votes'].value_counts()"
   ]
  },
  {
   "cell_type": "code",
   "execution_count": null,
   "id": "905b56cf",
   "metadata": {},
   "outputs": [],
   "source": [
    "train_csv['down_votes'].value_counts()"
   ]
  },
  {
   "cell_type": "code",
   "execution_count": 120,
   "id": "9d107b21",
   "metadata": {},
   "outputs": [],
   "source": [
    "train_csv.to_csv('./preprocessed/train.csv')"
   ]
  },
  {
   "cell_type": "markdown",
   "id": "bfe036e6",
   "metadata": {},
   "source": [
    "### Notice that the majoriy of audio files have 2 up votes\n",
    "\n",
    "According to this post https://discourse.mozilla.org/t/sentence-approval-upvotes/78924\n",
    "\n",
    "A sentence needs 2/3 up votes to be approved.\n",
    "I personally preffer to use audio files where the up_votes = 2 and down_votes = 0"
   ]
  },
  {
   "cell_type": "code",
   "execution_count": null,
   "id": "b858edb8",
   "metadata": {},
   "outputs": [],
   "source": [
    "# use only the audio files where down votes = 0\n",
    "train_csv = train_csv[train_csv.down_votes == 0]\n",
    "train_csv = train_csv[train_csv.up_votes >= 2]\n"
   ]
  },
  {
   "cell_type": "code",
   "execution_count": null,
   "id": "7d7501dd",
   "metadata": {
    "scrolled": true
   },
   "outputs": [],
   "source": [
    "train_csv['up_votes'].value_counts()"
   ]
  },
  {
   "cell_type": "code",
   "execution_count": null,
   "id": "253caa1e",
   "metadata": {},
   "outputs": [],
   "source": [
    "train_csv['accents'].value_counts()"
   ]
  },
  {
   "cell_type": "code",
   "execution_count": 107,
   "id": "73064632",
   "metadata": {},
   "outputs": [
    {
     "name": "stdout",
     "output_type": "stream",
     "text": [
      "features:  ['México', 1677.718785261093, 1612.7456973648866, 3358.7941449814125, -569.73413, 128.70403, 6.969439, 8.466482, 9.17747, 2.0728889, 3.9300733, -15.301613, -7.26776, 10.540461, -2.70858, -6.161283, -2.9615345, -5.36728, 1.2586343, -0.3109277, -1.8168545, 3.2947154, -3.4233239, -3.5374134]\n"
     ]
    }
   ],
   "source": [
    "ds_path = \"./clips/\"\n",
    "\n",
    "#this function is used to extract audio frequency features\n",
    "def feature_extraction(filename, sampling_rate=48000, mfcc_num=20):\n",
    "    path = \"{}{}\".format(ds_path, filename)\n",
    "    features = list()\n",
    "    audio, _ = librosa.load(path, sr=sampling_rate)\n",
    "    \n",
    "    accents = train_csv[train_csv['path'] == filename].accents.values[0]\n",
    "    spectral_centroid = np.mean(librosa.feature.spectral_centroid(y=audio, sr=sampling_rate))\n",
    "    spectral_bandwidth = np.mean(librosa.feature.spectral_bandwidth(y=audio, sr=sampling_rate))\n",
    "    spectral_rolloff = np.mean(librosa.feature.spectral_rolloff(y=audio, sr=sampling_rate))\n",
    "    features.append(accents)\n",
    "    features.append(spectral_centroid)\n",
    "    features.append(spectral_bandwidth)\n",
    "    features.append(spectral_rolloff)\n",
    "    \n",
    "    # Extract mfcc features. First experiment\n",
    "    \n",
    "    mfcc = librosa.feature.mfcc(y=audio, sr=sampling_rate, n_mfcc=mfcc_num) # it returns 20 by default.\n",
    "    for el in mfcc:\n",
    "        features.append(np.mean(el))\n",
    "    \n",
    "    return features\n",
    "    \n",
    "        \n",
    "features = feature_extraction(train_csv['path'][16])\n",
    "print(\"features: \", features)\n"
   ]
  },
  {
   "cell_type": "code",
   "execution_count": 104,
   "id": "367bedcf",
   "metadata": {},
   "outputs": [
    {
     "data": {
      "text/plain": [
       "24"
      ]
     },
     "execution_count": 104,
     "metadata": {},
     "output_type": "execute_result"
    }
   ],
   "source": [
    "len(features)"
   ]
  },
  {
   "cell_type": "code",
   "execution_count": 134,
   "id": "7e3a7db0",
   "metadata": {},
   "outputs": [
    {
     "name": "stdout",
     "output_type": "stream",
     "text": [
      "129951/129951"
     ]
    }
   ],
   "source": [
    "def create_df_features(orig, n_mfcc =20):\n",
    "    new_rows = list()\n",
    "    tot_rows = len(orig)-1\n",
    "    stop_counter = len(orig)\n",
    "    counter = 0\n",
    "    \n",
    "    missing_files = []\n",
    "        \n",
    "    for idx, row in orig.iterrows():\n",
    "        \n",
    "        if counter == stop_counter:\n",
    "            break\n",
    "        \n",
    "        print(\"\\r\", end=\"\")\n",
    "        \n",
    "        print(\"{}/{}\".format(counter, tot_rows), end=\"\", flush=True)\n",
    "        \n",
    "        filename = row['path']\n",
    "        \n",
    "        # check if the file exists\n",
    "        \n",
    "        if exists(\"./clips/\" + str(filename)):\n",
    "\n",
    "            features = feature_extraction(filename, mfcc_num=n_mfcc)\n",
    "\n",
    "            new_rows.append(features)\n",
    "            \n",
    "        else:\n",
    "            missing_files.append(filename)\n",
    "            \n",
    "        \n",
    "        counter=counter + 1\n",
    "    \n",
    "    column_names = [\"accent\", \"spectral_centroid\", \"spectral_bandwidth\", \"spectral_rolloff\"]\n",
    "    \n",
    "    for n in range(n_mfcc):\n",
    "        mfcc_column = \"mfcc\"+ str(n+1)\n",
    "        column_names.append(mfcc_column)\n",
    "        \n",
    "    result = pd.DataFrame(new_rows, columns=column_names)\n",
    "    \n",
    "    return result,missing_files\n",
    "\n",
    "\n",
    "# test the feature extraction function with only 10 files\n",
    "\n",
    "#data = train_csv\n",
    "\n",
    "# this file was missing and crashed the process\n",
    "#data = train_csv[train_csv['path']=='common_voice_es_30936612.wav']\n",
    "\n",
    "#df_features, missing_files = create_df_features(data,13)\n",
    "\n",
    "    \n",
    "\n",
    "\n",
    "### It works, but it will take time to run. Reduce size of data"
   ]
  },
  {
   "cell_type": "code",
   "execution_count": 3,
   "id": "72fe053b",
   "metadata": {},
   "outputs": [
    {
     "ename": "NameError",
     "evalue": "name 'pd' is not defined",
     "output_type": "error",
     "traceback": [
      "\u001b[1;31m---------------------------------------------------------------------------\u001b[0m",
      "\u001b[1;31mNameError\u001b[0m                                 Traceback (most recent call last)",
      "\u001b[1;32m~\\AppData\\Local\\Temp/ipykernel_31932/1551921952.py\u001b[0m in \u001b[0;36m<module>\u001b[1;34m\u001b[0m\n\u001b[0;32m      1\u001b[0m \u001b[1;31m#df_features.to_csv('mfcc_features.csv')\u001b[0m\u001b[1;33m\u001b[0m\u001b[1;33m\u001b[0m\u001b[0m\n\u001b[1;32m----> 2\u001b[1;33m \u001b[0mdf_features\u001b[0m \u001b[1;33m=\u001b[0m \u001b[0mpd\u001b[0m\u001b[1;33m.\u001b[0m\u001b[0mread_csv\u001b[0m\u001b[1;33m(\u001b[0m\u001b[1;34m'./mfcc_es_mx.csv'\u001b[0m\u001b[1;33m)\u001b[0m\u001b[1;33m\u001b[0m\u001b[1;33m\u001b[0m\u001b[0m\n\u001b[0m\u001b[0;32m      3\u001b[0m \u001b[1;33m\u001b[0m\u001b[0m\n",
      "\u001b[1;31mNameError\u001b[0m: name 'pd' is not defined"
     ]
    }
   ],
   "source": [
    "#df_features.to_csv('mfcc_features.csv')\n",
    "df_features = pd.read_csv('./mfcc_es_mx.csv')\n",
    "\n"
   ]
  },
  {
   "cell_type": "code",
   "execution_count": 140,
   "id": "b6726375",
   "metadata": {},
   "outputs": [],
   "source": [
    "pd.DataFrame(missing_files).to_csv('missing_files.csv')"
   ]
  },
  {
   "cell_type": "code",
   "execution_count": 136,
   "id": "2fdab4ff",
   "metadata": {},
   "outputs": [
    {
     "data": {
      "text/plain": [
       "129904"
      ]
     },
     "execution_count": 136,
     "metadata": {},
     "output_type": "execute_result"
    }
   ],
   "source": [
    "len(df_features)"
   ]
  },
  {
   "cell_type": "code",
   "execution_count": 130,
   "id": "de130ab3",
   "metadata": {},
   "outputs": [
    {
     "data": {
      "text/html": [
       "<div>\n",
       "<style scoped>\n",
       "    .dataframe tbody tr th:only-of-type {\n",
       "        vertical-align: middle;\n",
       "    }\n",
       "\n",
       "    .dataframe tbody tr th {\n",
       "        vertical-align: top;\n",
       "    }\n",
       "\n",
       "    .dataframe thead th {\n",
       "        text-align: right;\n",
       "    }\n",
       "</style>\n",
       "<table border=\"1\" class=\"dataframe\">\n",
       "  <thead>\n",
       "    <tr style=\"text-align: right;\">\n",
       "      <th></th>\n",
       "      <th>client_id</th>\n",
       "      <th>path</th>\n",
       "      <th>sentence</th>\n",
       "      <th>up_votes</th>\n",
       "      <th>down_votes</th>\n",
       "      <th>age</th>\n",
       "      <th>gender</th>\n",
       "      <th>accents</th>\n",
       "      <th>locale</th>\n",
       "      <th>segment</th>\n",
       "    </tr>\n",
       "  </thead>\n",
       "  <tbody>\n",
       "    <tr>\n",
       "      <th>45725</th>\n",
       "      <td>ddd8c836e742554a8fec6bedbb44a728a7c78bac3d3ba0...</td>\n",
       "      <td>common_voice_es_30936612.wav</td>\n",
       "      <td>Acometieron la obra el maestro Pedro Fol y el ...</td>\n",
       "      <td>2</td>\n",
       "      <td>0</td>\n",
       "      <td>fourties</td>\n",
       "      <td>male</td>\n",
       "      <td>España</td>\n",
       "      <td>es</td>\n",
       "      <td>NaN</td>\n",
       "    </tr>\n",
       "  </tbody>\n",
       "</table>\n",
       "</div>"
      ],
      "text/plain": [
       "                                               client_id  \\\n",
       "45725  ddd8c836e742554a8fec6bedbb44a728a7c78bac3d3ba0...   \n",
       "\n",
       "                               path  \\\n",
       "45725  common_voice_es_30936612.wav   \n",
       "\n",
       "                                                sentence  up_votes  \\\n",
       "45725  Acometieron la obra el maestro Pedro Fol y el ...         2   \n",
       "\n",
       "       down_votes       age gender accents locale  segment  \n",
       "45725           0  fourties   male  España     es      NaN  "
      ]
     },
     "execution_count": 130,
     "metadata": {},
     "output_type": "execute_result"
    }
   ],
   "source": [
    "train_csv[train_csv['path']=='common_voice_es_30936612.wav']"
   ]
  },
  {
   "cell_type": "code",
   "execution_count": 113,
   "id": "53a2673a",
   "metadata": {
    "scrolled": true
   },
   "outputs": [
    {
     "data": {
      "text/html": [
       "<div>\n",
       "<style scoped>\n",
       "    .dataframe tbody tr th:only-of-type {\n",
       "        vertical-align: middle;\n",
       "    }\n",
       "\n",
       "    .dataframe tbody tr th {\n",
       "        vertical-align: top;\n",
       "    }\n",
       "\n",
       "    .dataframe thead th {\n",
       "        text-align: right;\n",
       "    }\n",
       "</style>\n",
       "<table border=\"1\" class=\"dataframe\">\n",
       "  <thead>\n",
       "    <tr style=\"text-align: right;\">\n",
       "      <th></th>\n",
       "      <th>accent</th>\n",
       "      <th>spectral_centroid</th>\n",
       "      <th>spectral_bandwidth</th>\n",
       "      <th>spectral_rolloff</th>\n",
       "      <th>mfcc1</th>\n",
       "      <th>mfcc2</th>\n",
       "      <th>mfcc3</th>\n",
       "      <th>mfcc4</th>\n",
       "      <th>mfcc5</th>\n",
       "      <th>mfcc6</th>\n",
       "      <th>mfcc7</th>\n",
       "      <th>mfcc8</th>\n",
       "      <th>mfcc9</th>\n",
       "      <th>mfcc10</th>\n",
       "      <th>mfcc11</th>\n",
       "      <th>mfcc12</th>\n",
       "      <th>mfcc13</th>\n",
       "    </tr>\n",
       "  </thead>\n",
       "  <tbody>\n",
       "    <tr>\n",
       "      <th>0</th>\n",
       "      <td>México</td>\n",
       "      <td>1677.718785</td>\n",
       "      <td>1612.745697</td>\n",
       "      <td>3358.794145</td>\n",
       "      <td>-569.734131</td>\n",
       "      <td>128.704025</td>\n",
       "      <td>6.969439</td>\n",
       "      <td>8.466482</td>\n",
       "      <td>9.177470</td>\n",
       "      <td>2.072889</td>\n",
       "      <td>3.930073</td>\n",
       "      <td>-15.301613</td>\n",
       "      <td>-7.267760</td>\n",
       "      <td>10.540461</td>\n",
       "      <td>-2.708580</td>\n",
       "      <td>-6.161283</td>\n",
       "      <td>-2.961535</td>\n",
       "    </tr>\n",
       "    <tr>\n",
       "      <th>1</th>\n",
       "      <td>México</td>\n",
       "      <td>1619.961935</td>\n",
       "      <td>1550.527875</td>\n",
       "      <td>3185.866592</td>\n",
       "      <td>-536.894836</td>\n",
       "      <td>132.884674</td>\n",
       "      <td>14.828790</td>\n",
       "      <td>4.359267</td>\n",
       "      <td>3.613036</td>\n",
       "      <td>5.550890</td>\n",
       "      <td>5.075633</td>\n",
       "      <td>-21.225660</td>\n",
       "      <td>-12.947938</td>\n",
       "      <td>6.962500</td>\n",
       "      <td>-4.414804</td>\n",
       "      <td>-6.305439</td>\n",
       "      <td>-3.568841</td>\n",
       "    </tr>\n",
       "    <tr>\n",
       "      <th>2</th>\n",
       "      <td>México</td>\n",
       "      <td>1681.779715</td>\n",
       "      <td>1537.107681</td>\n",
       "      <td>3294.990647</td>\n",
       "      <td>-552.828979</td>\n",
       "      <td>133.168930</td>\n",
       "      <td>11.685369</td>\n",
       "      <td>-2.057884</td>\n",
       "      <td>-0.008511</td>\n",
       "      <td>1.975699</td>\n",
       "      <td>4.581186</td>\n",
       "      <td>-15.395591</td>\n",
       "      <td>-10.483634</td>\n",
       "      <td>6.167295</td>\n",
       "      <td>-1.988073</td>\n",
       "      <td>-3.231391</td>\n",
       "      <td>-0.737840</td>\n",
       "    </tr>\n",
       "    <tr>\n",
       "      <th>3</th>\n",
       "      <td>México</td>\n",
       "      <td>1845.987325</td>\n",
       "      <td>1679.445156</td>\n",
       "      <td>3671.334774</td>\n",
       "      <td>-546.226562</td>\n",
       "      <td>104.266121</td>\n",
       "      <td>16.771282</td>\n",
       "      <td>2.452711</td>\n",
       "      <td>4.185177</td>\n",
       "      <td>5.208492</td>\n",
       "      <td>0.743853</td>\n",
       "      <td>-16.445913</td>\n",
       "      <td>-9.057341</td>\n",
       "      <td>5.203734</td>\n",
       "      <td>-4.611979</td>\n",
       "      <td>-9.243179</td>\n",
       "      <td>-2.910447</td>\n",
       "    </tr>\n",
       "    <tr>\n",
       "      <th>4</th>\n",
       "      <td>México</td>\n",
       "      <td>1692.338682</td>\n",
       "      <td>1627.176669</td>\n",
       "      <td>3296.535326</td>\n",
       "      <td>-531.995178</td>\n",
       "      <td>128.998032</td>\n",
       "      <td>14.050061</td>\n",
       "      <td>7.137925</td>\n",
       "      <td>6.429101</td>\n",
       "      <td>6.554248</td>\n",
       "      <td>2.741421</td>\n",
       "      <td>-24.812666</td>\n",
       "      <td>-13.605760</td>\n",
       "      <td>7.323435</td>\n",
       "      <td>-4.648767</td>\n",
       "      <td>-6.041638</td>\n",
       "      <td>-3.786564</td>\n",
       "    </tr>\n",
       "    <tr>\n",
       "      <th>5</th>\n",
       "      <td>México</td>\n",
       "      <td>1906.452743</td>\n",
       "      <td>1781.315491</td>\n",
       "      <td>3908.414910</td>\n",
       "      <td>-533.075989</td>\n",
       "      <td>94.572754</td>\n",
       "      <td>15.389073</td>\n",
       "      <td>1.517419</td>\n",
       "      <td>4.039723</td>\n",
       "      <td>10.346470</td>\n",
       "      <td>4.913716</td>\n",
       "      <td>-15.144900</td>\n",
       "      <td>-5.900147</td>\n",
       "      <td>7.810393</td>\n",
       "      <td>-0.940329</td>\n",
       "      <td>-3.321784</td>\n",
       "      <td>-2.439012</td>\n",
       "    </tr>\n",
       "    <tr>\n",
       "      <th>6</th>\n",
       "      <td>México</td>\n",
       "      <td>1836.343905</td>\n",
       "      <td>1684.804924</td>\n",
       "      <td>3626.875825</td>\n",
       "      <td>-551.132202</td>\n",
       "      <td>109.378532</td>\n",
       "      <td>9.658978</td>\n",
       "      <td>1.282573</td>\n",
       "      <td>4.927755</td>\n",
       "      <td>7.232190</td>\n",
       "      <td>5.861974</td>\n",
       "      <td>-13.803307</td>\n",
       "      <td>-6.595472</td>\n",
       "      <td>8.740381</td>\n",
       "      <td>-1.375478</td>\n",
       "      <td>-5.493696</td>\n",
       "      <td>-3.963107</td>\n",
       "    </tr>\n",
       "    <tr>\n",
       "      <th>7</th>\n",
       "      <td>México</td>\n",
       "      <td>1630.288864</td>\n",
       "      <td>1632.550898</td>\n",
       "      <td>3292.842742</td>\n",
       "      <td>-540.814575</td>\n",
       "      <td>115.387955</td>\n",
       "      <td>13.276953</td>\n",
       "      <td>1.465407</td>\n",
       "      <td>6.269496</td>\n",
       "      <td>9.846820</td>\n",
       "      <td>3.324294</td>\n",
       "      <td>-17.829939</td>\n",
       "      <td>-6.979830</td>\n",
       "      <td>6.439206</td>\n",
       "      <td>-4.904841</td>\n",
       "      <td>-5.489675</td>\n",
       "      <td>-2.564126</td>\n",
       "    </tr>\n",
       "    <tr>\n",
       "      <th>8</th>\n",
       "      <td>América central</td>\n",
       "      <td>1800.341361</td>\n",
       "      <td>1543.421179</td>\n",
       "      <td>3421.153317</td>\n",
       "      <td>-559.152344</td>\n",
       "      <td>137.878815</td>\n",
       "      <td>-3.709019</td>\n",
       "      <td>4.905030</td>\n",
       "      <td>9.202734</td>\n",
       "      <td>-11.071607</td>\n",
       "      <td>-0.768194</td>\n",
       "      <td>-3.437903</td>\n",
       "      <td>-5.906492</td>\n",
       "      <td>0.358307</td>\n",
       "      <td>-10.410999</td>\n",
       "      <td>-11.663369</td>\n",
       "      <td>-6.084077</td>\n",
       "    </tr>\n",
       "    <tr>\n",
       "      <th>9</th>\n",
       "      <td>América central</td>\n",
       "      <td>1764.275554</td>\n",
       "      <td>1408.889111</td>\n",
       "      <td>3312.314619</td>\n",
       "      <td>-528.902222</td>\n",
       "      <td>105.784149</td>\n",
       "      <td>2.831367</td>\n",
       "      <td>4.334366</td>\n",
       "      <td>10.648993</td>\n",
       "      <td>-1.812410</td>\n",
       "      <td>-1.565997</td>\n",
       "      <td>-5.132946</td>\n",
       "      <td>-0.072501</td>\n",
       "      <td>4.571034</td>\n",
       "      <td>-8.296042</td>\n",
       "      <td>-9.127356</td>\n",
       "      <td>-5.072220</td>\n",
       "    </tr>\n",
       "  </tbody>\n",
       "</table>\n",
       "</div>"
      ],
      "text/plain": [
       "            accent  spectral_centroid  spectral_bandwidth  spectral_rolloff  \\\n",
       "0           México        1677.718785         1612.745697       3358.794145   \n",
       "1           México        1619.961935         1550.527875       3185.866592   \n",
       "2           México        1681.779715         1537.107681       3294.990647   \n",
       "3           México        1845.987325         1679.445156       3671.334774   \n",
       "4           México        1692.338682         1627.176669       3296.535326   \n",
       "5           México        1906.452743         1781.315491       3908.414910   \n",
       "6           México        1836.343905         1684.804924       3626.875825   \n",
       "7           México        1630.288864         1632.550898       3292.842742   \n",
       "8  América central        1800.341361         1543.421179       3421.153317   \n",
       "9  América central        1764.275554         1408.889111       3312.314619   \n",
       "\n",
       "        mfcc1       mfcc2      mfcc3     mfcc4      mfcc5      mfcc6  \\\n",
       "0 -569.734131  128.704025   6.969439  8.466482   9.177470   2.072889   \n",
       "1 -536.894836  132.884674  14.828790  4.359267   3.613036   5.550890   \n",
       "2 -552.828979  133.168930  11.685369 -2.057884  -0.008511   1.975699   \n",
       "3 -546.226562  104.266121  16.771282  2.452711   4.185177   5.208492   \n",
       "4 -531.995178  128.998032  14.050061  7.137925   6.429101   6.554248   \n",
       "5 -533.075989   94.572754  15.389073  1.517419   4.039723  10.346470   \n",
       "6 -551.132202  109.378532   9.658978  1.282573   4.927755   7.232190   \n",
       "7 -540.814575  115.387955  13.276953  1.465407   6.269496   9.846820   \n",
       "8 -559.152344  137.878815  -3.709019  4.905030   9.202734 -11.071607   \n",
       "9 -528.902222  105.784149   2.831367  4.334366  10.648993  -1.812410   \n",
       "\n",
       "      mfcc7      mfcc8      mfcc9     mfcc10     mfcc11     mfcc12    mfcc13  \n",
       "0  3.930073 -15.301613  -7.267760  10.540461  -2.708580  -6.161283 -2.961535  \n",
       "1  5.075633 -21.225660 -12.947938   6.962500  -4.414804  -6.305439 -3.568841  \n",
       "2  4.581186 -15.395591 -10.483634   6.167295  -1.988073  -3.231391 -0.737840  \n",
       "3  0.743853 -16.445913  -9.057341   5.203734  -4.611979  -9.243179 -2.910447  \n",
       "4  2.741421 -24.812666 -13.605760   7.323435  -4.648767  -6.041638 -3.786564  \n",
       "5  4.913716 -15.144900  -5.900147   7.810393  -0.940329  -3.321784 -2.439012  \n",
       "6  5.861974 -13.803307  -6.595472   8.740381  -1.375478  -5.493696 -3.963107  \n",
       "7  3.324294 -17.829939  -6.979830   6.439206  -4.904841  -5.489675 -2.564126  \n",
       "8 -0.768194  -3.437903  -5.906492   0.358307 -10.410999 -11.663369 -6.084077  \n",
       "9 -1.565997  -5.132946  -0.072501   4.571034  -8.296042  -9.127356 -5.072220  "
      ]
     },
     "execution_count": 113,
     "metadata": {},
     "output_type": "execute_result"
    }
   ],
   "source": [
    "df_features.head(10)"
   ]
  },
  {
   "cell_type": "code",
   "execution_count": null,
   "id": "28f80814",
   "metadata": {},
   "outputs": [],
   "source": []
  },
  {
   "cell_type": "markdown",
   "id": "8937a521",
   "metadata": {},
   "source": [
    "### Data encoding"
   ]
  },
  {
   "cell_type": "code",
   "execution_count": 1,
   "id": "0507ca91",
   "metadata": {},
   "outputs": [
    {
     "ename": "NameError",
     "evalue": "name 'df_features' is not defined",
     "output_type": "error",
     "traceback": [
      "\u001b[1;31m---------------------------------------------------------------------------\u001b[0m",
      "\u001b[1;31mNameError\u001b[0m                                 Traceback (most recent call last)",
      "\u001b[1;32m~\\AppData\\Local\\Temp/ipykernel_66784/410527051.py\u001b[0m in \u001b[0;36m<module>\u001b[1;34m\u001b[0m\n\u001b[0;32m      8\u001b[0m     \u001b[1;32mreturn\u001b[0m \u001b[0mscaled_data\u001b[0m\u001b[1;33m,\u001b[0m \u001b[0mscaler\u001b[0m\u001b[1;33m\u001b[0m\u001b[1;33m\u001b[0m\u001b[0m\n\u001b[0;32m      9\u001b[0m \u001b[1;33m\u001b[0m\u001b[0m\n\u001b[1;32m---> 10\u001b[1;33m \u001b[0mx\u001b[0m\u001b[1;33m,\u001b[0m \u001b[0mscaler\u001b[0m \u001b[1;33m=\u001b[0m \u001b[0mscale_features\u001b[0m\u001b[1;33m(\u001b[0m\u001b[0mdf_features\u001b[0m\u001b[1;33m)\u001b[0m\u001b[1;33m\u001b[0m\u001b[1;33m\u001b[0m\u001b[0m\n\u001b[0m",
      "\u001b[1;31mNameError\u001b[0m: name 'df_features' is not defined"
     ]
    }
   ],
   "source": [
    "from sklearn.preprocessing import StandardScaler\n",
    "\n",
    "def scale_features(data):\n",
    "    scaler = StandardScaler()\n",
    "    scaled_data = scaler.fit_transform(np.array(data.iloc[:, 1:], dtype = float))\n",
    "    # with data.iloc[:, 0:-1] we don't consider the label column\n",
    "        \n",
    "    return scaled_data, scaler\n",
    "\n",
    "x, scaler = scale_features(df_features)"
   ]
  },
  {
   "cell_type": "code",
   "execution_count": 146,
   "id": "8523384d",
   "metadata": {},
   "outputs": [
    {
     "name": "stdout",
     "output_type": "stream",
     "text": [
      "Before encoding: México\n",
      "\n",
      "After encoding: 5\n",
      "\n",
      "Classes: ['América central' 'Andino' 'Caribe' 'Chileno' 'España' 'México'\n",
      " 'Rioplatense']\n"
     ]
    }
   ],
   "source": [
    "from sklearn.preprocessing import LabelEncoder\n",
    "\n",
    "def get_labels(data):\n",
    "    labels = data.iloc[:, 0]\n",
    "    encoder = LabelEncoder()\n",
    "    labels = encoder.fit_transform(labels)\n",
    "    return labels, encoder\n",
    "\n",
    "y, encoder = get_labels(df_features)\n",
    "classes = encoder.classes_\n",
    "print(\"Before encoding:\", df_features.iloc[0].values[0])\n",
    "print(\"\\nAfter encoding:\", y[0])\n",
    "print(\"\\nClasses:\", classes)"
   ]
  },
  {
   "cell_type": "code",
   "execution_count": 150,
   "id": "cf6e9b82",
   "metadata": {},
   "outputs": [],
   "source": [
    "import matplotlib.pyplot as plt"
   ]
  },
  {
   "cell_type": "code",
   "execution_count": 151,
   "id": "3ba18001",
   "metadata": {},
   "outputs": [
    {
     "data": {
      "image/png": "[encoded data removed]",
      "text/plain": [
       "<Figure size 1584x360 with 1 Axes>"
      ]
     },
     "metadata": {
      "needs_background": "light"
     },
     "output_type": "display_data"
    }
   ],
   "source": [
    "from sklearn.feature_selection import SelectKBest\n",
    "from sklearn.feature_selection import f_classif\n",
    "\n",
    "n_features = 12\n",
    "\n",
    "f_selector = SelectKBest(f_classif, k=n_features).fit(x, y)\n",
    "X_new = f_selector.transform(x)\n",
    "scores = f_selector.scores_\n",
    "\n",
    "indices = np.argsort(scores)[::-1]\n",
    "\n",
    "features = []\n",
    "for i in range(n_features):\n",
    "    features.append(df_features.columns[indices[i]])\n",
    "    \n",
    "plt.figure(figsize=(22, 5))\n",
    "plt.bar(features, scores[indices[range(n_features)]], color='g')\n",
    "plt.xticks(fontsize=8)\n",
    "plt.show()"
   ]
  },
  {
   "cell_type": "markdown",
   "id": "0e497ca1",
   "metadata": {},
   "source": [
    "### Classification Model"
   ]
  },
  {
   "cell_type": "code",
   "execution_count": 180,
   "id": "8b31e7f7",
   "metadata": {},
   "outputs": [
    {
     "data": {
      "text/plain": [
       "SVC(probability=True)"
      ]
     },
     "execution_count": 180,
     "metadata": {},
     "output_type": "execute_result"
    }
   ],
   "source": [
    "from sklearn import svm\n",
    "\n",
    "X = x[:10000]\n",
    "Y = y[:10000]\n",
    "\n",
    "clf = svm.SVC(probability = True)\n",
    "clf.fit(x, y)\n",
    "\n"
   ]
  },
  {
   "cell_type": "code",
   "execution_count": 181,
   "id": "23ecae94",
   "metadata": {},
   "outputs": [],
   "source": [
    "import pickle\n",
    "\n",
    "pickle.dump(clf, open('svc_model.pkl','wb'))"
   ]
  },
  {
   "cell_type": "code",
   "execution_count": 219,
   "id": "7d5041fc",
   "metadata": {},
   "outputs": [
    {
     "data": {
      "text/plain": [
       "0.798868006673767"
      ]
     },
     "execution_count": 219,
     "metadata": {},
     "output_type": "execute_result"
    }
   ],
   "source": [
    "from sklearn.metrics import roc_auc_score\n",
    "#X, y = load_breast_cancer(return_X_y=True)\n",
    "#clf = LogisticRegression(solver=\"liblinear\", random_state=0).fit(X, y)\n",
    "\n",
    "y_pred = clf.predict_proba(x[10001:12001])\n",
    "\n",
    "y_true = y[10001:12001]\n",
    "\n",
    "roc_auc_score(y_true, y_pred , multi_class='ovr')\n",
    "\n",
    "#roc_auc_score(y, clf.decision_function(X))"
   ]
  },
  {
   "cell_type": "code",
   "execution_count": 226,
   "id": "451d0dcc",
   "metadata": {},
   "outputs": [],
   "source": [
    "import itertools\n",
    "import matplotlib.pyplot as plt\n",
    "\n",
    "def my_plot_confusion_matrix(cm, classes, normalize=False):\n",
    "    if normalize:\n",
    "        cm = cm.astype('float') / cm.sum(axis=1)[:, np.newaxis]\n",
    "        title = \"Normalized Confusion Matrix\"\n",
    "    else:\n",
    "        title = \"Confusion Matrix (without normalization)\"\n",
    "    \n",
    "    plt.imshow(cm, interpolation='nearest', cmap=plt.cm.Blues)\n",
    "    plt.colorbar()\n",
    "    tick_marks = np.arange(len(classes))\n",
    "    plt.xticks(tick_marks, classes, rotation=45)\n",
    "    plt.yticks(tick_marks, classes)\n",
    "    plt.title(title)\n",
    "\n",
    "    thresh = cm.max() / 2.\n",
    "    fmt = \"{:0.2f}\" if normalize else \"{:d}\"\n",
    "    for i, j in itertools.product(range(cm.shape[0]), range(cm.shape[1])):\n",
    "        plt.text(j, i, fmt.format(cm[i, j]),\n",
    "                 horizontalalignment=\"center\",\n",
    "                 color=\"white\" if cm[i, j] > thresh else \"black\")\n",
    "\n",
    "    plt.tight_layout()\n",
    "    plt.ylabel('True label')\n",
    "    plt.xlabel('Predicted label')"
   ]
  },
  {
   "cell_type": "code",
   "execution_count": 227,
   "id": "e19eb86d",
   "metadata": {},
   "outputs": [
    {
     "data": {
      "image/png": "[encoded data removed]",
      "text/plain": [
       "<Figure size 432x288 with 2 Axes>"
      ]
     },
     "metadata": {
      "needs_background": "light"
     },
     "output_type": "display_data"
    }
   ],
   "source": [
    "from sklearn.metrics import confusion_matrix\n",
    "#y_pred = clf.predict_proba(x[10001:12001])\n",
    "#y_true = y[10001:12001]\n",
    "#accuracy_score(y_true, y_pred)\n",
    "\n",
    "y_pred = clf.predict(x[10001:12001])\n",
    "\n",
    "y_true = y[10001:12001]\n",
    "\n",
    "cm = confusion_matrix(y_true, y_pred)\n",
    "\n",
    "plt.figure()\n",
    "my_plot_confusion_matrix(cm, classes=classes)\n",
    "\n",
    "plt.grid(False)\n",
    "plt.show()\n"
   ]
  },
  {
   "cell_type": "code",
   "execution_count": 191,
   "id": "0fe54947",
   "metadata": {},
   "outputs": [],
   "source": [
    "test_x = x[12000]\n",
    "test_y = y[12000]"
   ]
  },
  {
   "cell_type": "code",
   "execution_count": 192,
   "id": "5492ee97",
   "metadata": {},
   "outputs": [
    {
     "name": "stdout",
     "output_type": "stream",
     "text": [
      "2\n"
     ]
    }
   ],
   "source": [
    "print(test_y)\n",
    "result = clf.predict([test_x])\n",
    "\n",
    "#test_x"
   ]
  },
  {
   "cell_type": "code",
   "execution_count": 193,
   "id": "fd26bc11",
   "metadata": {},
   "outputs": [
    {
     "data": {
      "text/plain": [
       "array([4])"
      ]
     },
     "execution_count": 193,
     "metadata": {},
     "output_type": "execute_result"
    }
   ],
   "source": [
    "result"
   ]
  },
  {
   "cell_type": "code",
   "execution_count": 169,
   "id": "cd181dce",
   "metadata": {},
   "outputs": [
    {
     "data": {
      "text/plain": [
       "array(['América central', 'Andino', 'Caribe', 'Chileno', 'España',\n",
       "       'México', 'Rioplatense'], dtype=object)"
      ]
     },
     "execution_count": 169,
     "metadata": {},
     "output_type": "execute_result"
    }
   ],
   "source": [
    "classes"
   ]
  },
  {
   "cell_type": "code",
   "execution_count": 173,
   "id": "8e88c615",
   "metadata": {},
   "outputs": [
    {
     "name": "stdout",
     "output_type": "stream",
     "text": [
      "Collecting wavio\n",
      "  Downloading wavio-0.0.4-py2.py3-none-any.whl (9.0 kB)\n",
      "Requirement already satisfied: numpy>=1.6.0 in c:\\users\\diego\\anaconda3\\lib\\site-packages (from wavio) (1.20.3)\n",
      "Installing collected packages: wavio\n",
      "Successfully installed wavio-0.0.4\n"
     ]
    }
   ],
   "source": [
    "#!pip install sounddevice\n",
    "#!pip install wavio"
   ]
  },
  {
   "cell_type": "code",
   "execution_count": 176,
   "id": "c04df10e",
   "metadata": {},
   "outputs": [],
   "source": [
    "import sounddevice as sd\n",
    "from scipy.io.wavfile import write\n",
    "import wavio as wv\n",
    "  \n",
    "# Sampling frequency\n",
    "freq = 44100\n",
    "  \n",
    "# Recording duration\n",
    "duration = 5\n",
    "  \n",
    "# Start recorder with the given values \n",
    "# of duration and sample frequency\n",
    "recording = sd.rec(int(duration * freq), \n",
    "                   samplerate=freq, channels=2)\n",
    "  \n",
    "# Record audio for the given number of seconds\n",
    "sd.wait()\n",
    "  \n",
    "# This will convert the NumPy array to an audio\n",
    "# file with the given sampling frequency\n",
    "write(\"recording0.wav\", freq, recording)\n",
    "  \n",
    "# Convert the NumPy array to audio file\n",
    "wv.write(\"recording1.wav\", recording, freq, sampwidth=2)"
   ]
  },
  {
   "cell_type": "code",
   "execution_count": 218,
   "id": "2c4003c7",
   "metadata": {},
   "outputs": [
    {
     "ename": "IndexError",
     "evalue": "index 0 is out of bounds for axis 0 with size 0",
     "output_type": "error",
     "traceback": [
      "\u001b[1;31m---------------------------------------------------------------------------\u001b[0m",
      "\u001b[1;31mIndexError\u001b[0m                                Traceback (most recent call last)",
      "\u001b[1;32m~\\AppData\\Local\\Temp/ipykernel_40184/3992153471.py\u001b[0m in \u001b[0;36m<module>\u001b[1;34m\u001b[0m\n\u001b[0;32m      2\u001b[0m \u001b[1;33m\u001b[0m\u001b[0m\n\u001b[0;32m      3\u001b[0m \u001b[1;33m\u001b[0m\u001b[0m\n\u001b[1;32m----> 4\u001b[1;33m \u001b[0mtest_features\u001b[0m \u001b[1;33m=\u001b[0m \u001b[0mfeature_extraction\u001b[0m\u001b[1;33m(\u001b[0m\u001b[1;34m\"recording1.wav\"\u001b[0m\u001b[1;33m,\u001b[0m\u001b[0mmfcc_num\u001b[0m\u001b[1;33m=\u001b[0m\u001b[1;36m13\u001b[0m\u001b[1;33m)\u001b[0m\u001b[1;33m\u001b[0m\u001b[1;33m\u001b[0m\u001b[0m\n\u001b[0m\u001b[0;32m      5\u001b[0m \u001b[0mprint\u001b[0m\u001b[1;33m(\u001b[0m\u001b[1;34m\"features: \"\u001b[0m\u001b[1;33m,\u001b[0m \u001b[0mtest_features\u001b[0m\u001b[1;33m)\u001b[0m\u001b[1;33m\u001b[0m\u001b[1;33m\u001b[0m\u001b[0m\n",
      "\u001b[1;32m~\\AppData\\Local\\Temp/ipykernel_40184/2564799209.py\u001b[0m in \u001b[0;36mfeature_extraction\u001b[1;34m(filename, sampling_rate, mfcc_num)\u001b[0m\n\u001b[0;32m      7\u001b[0m     \u001b[0maudio\u001b[0m\u001b[1;33m,\u001b[0m \u001b[0m_\u001b[0m \u001b[1;33m=\u001b[0m \u001b[0mlibrosa\u001b[0m\u001b[1;33m.\u001b[0m\u001b[0mload\u001b[0m\u001b[1;33m(\u001b[0m\u001b[0mpath\u001b[0m\u001b[1;33m,\u001b[0m \u001b[0msr\u001b[0m\u001b[1;33m=\u001b[0m\u001b[0msampling_rate\u001b[0m\u001b[1;33m)\u001b[0m\u001b[1;33m\u001b[0m\u001b[1;33m\u001b[0m\u001b[0m\n\u001b[0;32m      8\u001b[0m \u001b[1;33m\u001b[0m\u001b[0m\n\u001b[1;32m----> 9\u001b[1;33m     \u001b[0maccents\u001b[0m \u001b[1;33m=\u001b[0m \u001b[0mtrain_csv\u001b[0m\u001b[1;33m[\u001b[0m\u001b[0mtrain_csv\u001b[0m\u001b[1;33m[\u001b[0m\u001b[1;34m'path'\u001b[0m\u001b[1;33m]\u001b[0m \u001b[1;33m==\u001b[0m \u001b[0mfilename\u001b[0m\u001b[1;33m]\u001b[0m\u001b[1;33m.\u001b[0m\u001b[0maccents\u001b[0m\u001b[1;33m.\u001b[0m\u001b[0mvalues\u001b[0m\u001b[1;33m[\u001b[0m\u001b[1;36m0\u001b[0m\u001b[1;33m]\u001b[0m\u001b[1;33m\u001b[0m\u001b[1;33m\u001b[0m\u001b[0m\n\u001b[0m\u001b[0;32m     10\u001b[0m     \u001b[0mspectral_centroid\u001b[0m \u001b[1;33m=\u001b[0m \u001b[0mnp\u001b[0m\u001b[1;33m.\u001b[0m\u001b[0mmean\u001b[0m\u001b[1;33m(\u001b[0m\u001b[0mlibrosa\u001b[0m\u001b[1;33m.\u001b[0m\u001b[0mfeature\u001b[0m\u001b[1;33m.\u001b[0m\u001b[0mspectral_centroid\u001b[0m\u001b[1;33m(\u001b[0m\u001b[0my\u001b[0m\u001b[1;33m=\u001b[0m\u001b[0maudio\u001b[0m\u001b[1;33m,\u001b[0m \u001b[0msr\u001b[0m\u001b[1;33m=\u001b[0m\u001b[0msampling_rate\u001b[0m\u001b[1;33m)\u001b[0m\u001b[1;33m)\u001b[0m\u001b[1;33m\u001b[0m\u001b[1;33m\u001b[0m\u001b[0m\n\u001b[0;32m     11\u001b[0m     \u001b[0mspectral_bandwidth\u001b[0m \u001b[1;33m=\u001b[0m \u001b[0mnp\u001b[0m\u001b[1;33m.\u001b[0m\u001b[0mmean\u001b[0m\u001b[1;33m(\u001b[0m\u001b[0mlibrosa\u001b[0m\u001b[1;33m.\u001b[0m\u001b[0mfeature\u001b[0m\u001b[1;33m.\u001b[0m\u001b[0mspectral_bandwidth\u001b[0m\u001b[1;33m(\u001b[0m\u001b[0my\u001b[0m\u001b[1;33m=\u001b[0m\u001b[0maudio\u001b[0m\u001b[1;33m,\u001b[0m \u001b[0msr\u001b[0m\u001b[1;33m=\u001b[0m\u001b[0msampling_rate\u001b[0m\u001b[1;33m)\u001b[0m\u001b[1;33m)\u001b[0m\u001b[1;33m\u001b[0m\u001b[1;33m\u001b[0m\u001b[0m\n",
      "\u001b[1;31mIndexError\u001b[0m: index 0 is out of bounds for axis 0 with size 0"
     ]
    }
   ],
   "source": [
    "\n",
    "#train_csv['path'][93236]\n",
    "\n",
    "\n",
    "test_features = feature_extraction(\"recording1.wav\",mfcc_num=13)\n",
    "print(\"features: \", test_features)\n"
   ]
  },
  {
   "cell_type": "code",
   "execution_count": 213,
   "id": "edbc5b8d",
   "metadata": {},
   "outputs": [],
   "source": [
    "test_file = [1218.582118066647, 1001.9575474047779, 2120.4978813559323, -403.36447, 115.82823, 7.0456533, 7.218965, 16.937473, 5.4599204, 4.818916, -6.219005, -14.529426, -6.727351, -2.9894013, -2.4014459, -6.287604]"
   ]
  },
  {
   "cell_type": "code",
   "execution_count": 214,
   "id": "9356341f",
   "metadata": {},
   "outputs": [
    {
     "name": "stdout",
     "output_type": "stream",
     "text": [
      "España\n"
     ]
    }
   ],
   "source": [
    "print(test_features[0])\n",
    "result = clf.predict([test_file])"
   ]
  },
  {
   "cell_type": "code",
   "execution_count": 216,
   "id": "f48351a1",
   "metadata": {},
   "outputs": [
    {
     "data": {
      "text/plain": [
       "array([4])"
      ]
     },
     "execution_count": 216,
     "metadata": {},
     "output_type": "execute_result"
    }
   ],
   "source": [
    "result[:]"
   ]
  }
 ],
 "metadata": {
  "kernelspec": {
   "display_name": "Python 3 (ipykernel)",
   "language": "python",
   "name": "python3"
  },
  "language_info": {
   "codemirror_mode": {
    "name": "ipython",
    "version": 3
   },
   "file_extension": ".py",
   "mimetype": "text/x-python",
   "name": "python",
   "nbconvert_exporter": "python",
   "pygments_lexer": "ipython3",
   "version": "3.9.7"
  }
 },
 "nbformat": 4,
 "nbformat_minor": 5
}
