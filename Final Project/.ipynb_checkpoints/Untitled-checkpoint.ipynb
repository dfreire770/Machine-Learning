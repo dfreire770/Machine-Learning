{
 "cells": [
  {
   "cell_type": "code",
   "execution_count": 33,
   "id": "4d3f995b",
   "metadata": {},
   "outputs": [],
   "source": [
    "import pandas as pd\n",
    "import numpy as np\n",
    "\n",
    "directory = 'C:/Users/Diego/Desktop/stt-es/'\n",
    "\n",
    "path = directory + 'train.csv'\n",
    "\n",
    "df = pd.read_csv(path)"
   ]
  },
  {
   "cell_type": "code",
   "execution_count": 34,
   "id": "8e1efb78",
   "metadata": {},
   "outputs": [],
   "source": [
    "train = df[:100]"
   ]
  },
  {
   "cell_type": "code",
   "execution_count": 13,
   "id": "8fa81a11",
   "metadata": {},
   "outputs": [
    {
     "name": "stdout",
     "output_type": "stream",
     "text": [
      "Collecting python_speech_features\n",
      "  Downloading python_speech_features-0.6.tar.gz (5.6 kB)\n",
      "Building wheels for collected packages: python-speech-features\n",
      "  Building wheel for python-speech-features (setup.py): started\n",
      "  Building wheel for python-speech-features (setup.py): finished with status 'done'\n",
      "  Created wheel for python-speech-features: filename=python_speech_features-0.6-py3-none-any.whl size=5888 sha256=6637d96a05f0bddd21697e70b34b74eef298f7525af0aa271694cd2834fcfe9a\n",
      "  Stored in directory: c:\\users\\diego\\appdata\\local\\pip\\cache\\wheels\\09\\a1\\04\\08e2688d2562d8f9ff89e77c6ddfbf7268e07dae1a6f22455e\n",
      "Successfully built python-speech-features\n",
      "Installing collected packages: python-speech-features\n",
      "Successfully installed python-speech-features-0.6\n"
     ]
    }
   ],
   "source": [
    "#!pip install python_speech_features"
   ]
  },
  {
   "cell_type": "code",
   "execution_count": 14,
   "id": "a8f0b2dd",
   "metadata": {},
   "outputs": [],
   "source": [
    "from scipy.io import wavfile\n",
    "from python_speech_features import mfcc, logfbank, delta"
   ]
  },
  {
   "cell_type": "code",
   "execution_count": 15,
   "id": "0ab4d3ab",
   "metadata": {},
   "outputs": [],
   "source": [
    "def feature_extractor(sound_path):\n",
    "    sampling_freq, audio = wavfile.read(sound_path)\n",
    "    mfcc_features = mfcc(audio, sampling_freq,nfft = 2048,numcep=13,nfilt=13)\n",
    "    return mfcc_features"
   ]
  },
  {
   "cell_type": "code",
   "execution_count": 46,
   "id": "31128acf",
   "metadata": {},
   "outputs": [],
   "source": [
    "audio_directory = 'C:/Users/Diego/Desktop/stt-es/clips/' + train['wav_filename'][:]\n",
    "\n",
    "for wav_file in audio_directory:\n",
    "\n",
    "    fcc_features = feature_extractor(wav_file)\n",
    "\n"
   ]
  },
  {
   "cell_type": "code",
   "execution_count": null,
   "id": "9a70cb47",
   "metadata": {},
   "outputs": [],
   "source": []
  }
 ],
 "metadata": {
  "kernelspec": {
   "display_name": "Python 3 (ipykernel)",
   "language": "python",
   "name": "python3"
  },
  "language_info": {
   "codemirror_mode": {
    "name": "ipython",
    "version": 3
   },
   "file_extension": ".py",
   "mimetype": "text/x-python",
   "name": "python",
   "nbconvert_exporter": "python",
   "pygments_lexer": "ipython3",
   "version": "3.9.7"
  }
 },
 "nbformat": 4,
 "nbformat_minor": 5
}
